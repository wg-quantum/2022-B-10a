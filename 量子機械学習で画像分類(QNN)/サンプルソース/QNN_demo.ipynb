{
  "cells": [
    {
      "cell_type": "markdown",
      "source": [
        "Google colabのたまに以下をインストール"
      ],
      "metadata": {
        "id": "a1v4j6U_TFkx"
      },
      "id": "a1v4j6U_TFkx"
    },
    {
      "cell_type": "code",
      "source": [
        "rm -rf data"
      ],
      "metadata": {
        "id": "yfFsC-E6qSt5"
      },
      "id": "yfFsC-E6qSt5",
      "execution_count": null,
      "outputs": []
    },
    {
      "cell_type": "code",
      "source": [
        "!pip install qiskit\n",
        "!pip install qiskit_machine_learning\n",
        "!pip install ipython"
      ],
      "metadata": {
        "colab": {
          "base_uri": "https://localhost:8080/"
        },
        "id": "qcunNlUATDDn",
        "outputId": "e608a0a7-84fc-4f35-ed4e-03ff049f5f3a"
      },
      "id": "qcunNlUATDDn",
      "execution_count": null,
      "outputs": [
        {
          "output_type": "stream",
          "name": "stdout",
          "text": [
            "Looking in indexes: https://pypi.org/simple, https://us-python.pkg.dev/colab-wheels/public/simple/\n",
            "Collecting qiskit\n",
            "  Downloading qiskit-0.37.2.tar.gz (13 kB)\n",
            "Collecting qiskit-terra==0.21.2\n",
            "  Downloading qiskit_terra-0.21.2-cp37-cp37m-manylinux_2_17_x86_64.manylinux2014_x86_64.whl (6.7 MB)\n",
            "\u001b[K     |████████████████████████████████| 6.7 MB 6.0 MB/s \n",
            "\u001b[?25hCollecting qiskit-aer==0.10.4\n",
            "  Downloading qiskit_aer-0.10.4-cp37-cp37m-manylinux_2_12_x86_64.manylinux2010_x86_64.whl (18.0 MB)\n",
            "\u001b[K     |████████████████████████████████| 18.0 MB 44.0 MB/s \n",
            "\u001b[?25hCollecting qiskit-ibmq-provider==0.19.2\n",
            "  Downloading qiskit_ibmq_provider-0.19.2-py3-none-any.whl (240 kB)\n",
            "\u001b[K     |████████████████████████████████| 240 kB 92.7 MB/s \n",
            "\u001b[?25hRequirement already satisfied: scipy>=1.0 in /usr/local/lib/python3.7/dist-packages (from qiskit-aer==0.10.4->qiskit) (1.7.3)\n",
            "Requirement already satisfied: numpy>=1.16.3 in /usr/local/lib/python3.7/dist-packages (from qiskit-aer==0.10.4->qiskit) (1.21.6)\n",
            "Collecting websocket-client>=1.0.1\n",
            "  Downloading websocket_client-1.4.0-py3-none-any.whl (54 kB)\n",
            "\u001b[K     |████████████████████████████████| 54 kB 3.8 MB/s \n",
            "\u001b[?25hRequirement already satisfied: urllib3>=1.21.1 in /usr/local/lib/python3.7/dist-packages (from qiskit-ibmq-provider==0.19.2->qiskit) (1.24.3)\n",
            "Collecting requests-ntlm>=1.1.0\n",
            "  Downloading requests_ntlm-1.1.0-py2.py3-none-any.whl (5.7 kB)\n",
            "Requirement already satisfied: python-dateutil>=2.8.0 in /usr/local/lib/python3.7/dist-packages (from qiskit-ibmq-provider==0.19.2->qiskit) (2.8.2)\n",
            "Requirement already satisfied: requests>=2.19 in /usr/local/lib/python3.7/dist-packages (from qiskit-ibmq-provider==0.19.2->qiskit) (2.23.0)\n",
            "Collecting websockets>=10.0\n",
            "  Downloading websockets-10.3-cp37-cp37m-manylinux_2_5_x86_64.manylinux1_x86_64.manylinux_2_12_x86_64.manylinux2010_x86_64.whl (112 kB)\n",
            "\u001b[K     |████████████████████████████████| 112 kB 73.7 MB/s \n",
            "\u001b[?25hCollecting retworkx>=0.11.0\n",
            "  Downloading retworkx-0.11.0-cp37-cp37m-manylinux_2_5_x86_64.manylinux1_x86_64.manylinux_2_12_x86_64.manylinux2010_x86_64.whl (1.6 MB)\n",
            "\u001b[K     |████████████████████████████████| 1.6 MB 61.5 MB/s \n",
            "\u001b[?25hCollecting stevedore>=3.0.0\n",
            "  Downloading stevedore-3.5.0-py3-none-any.whl (49 kB)\n",
            "\u001b[K     |████████████████████████████████| 49 kB 7.7 MB/s \n",
            "\u001b[?25hRequirement already satisfied: psutil>=5 in /usr/local/lib/python3.7/dist-packages (from qiskit-terra==0.21.2->qiskit) (5.4.8)\n",
            "Collecting symengine>=0.9\n",
            "  Downloading symengine-0.9.2-cp37-cp37m-manylinux2010_x86_64.whl (37.5 MB)\n",
            "\u001b[K     |████████████████████████████████| 37.5 MB 50 kB/s \n",
            "\u001b[?25hRequirement already satisfied: typing-extensions in /usr/local/lib/python3.7/dist-packages (from qiskit-terra==0.21.2->qiskit) (4.1.1)\n",
            "Collecting ply>=3.10\n",
            "  Downloading ply-3.11-py2.py3-none-any.whl (49 kB)\n",
            "\u001b[K     |████████████████████████████████| 49 kB 7.7 MB/s \n",
            "\u001b[?25hRequirement already satisfied: dill>=0.3 in /usr/local/lib/python3.7/dist-packages (from qiskit-terra==0.21.2->qiskit) (0.3.5.1)\n",
            "Requirement already satisfied: sympy>=1.3 in /usr/local/lib/python3.7/dist-packages (from qiskit-terra==0.21.2->qiskit) (1.7.1)\n",
            "Collecting shared-memory38\n",
            "  Downloading shared_memory38-0.1.2-cp37-cp37m-manylinux_2_5_x86_64.manylinux1_x86_64.whl (25 kB)\n",
            "Collecting tweedledum<2.0,>=1.1\n",
            "  Downloading tweedledum-1.1.1-cp37-cp37m-manylinux_2_12_x86_64.manylinux2010_x86_64.whl (943 kB)\n",
            "\u001b[K     |████████████████████████████████| 943 kB 64.4 MB/s \n",
            "\u001b[?25hRequirement already satisfied: six>=1.5 in /usr/local/lib/python3.7/dist-packages (from python-dateutil>=2.8.0->qiskit-ibmq-provider==0.19.2->qiskit) (1.15.0)\n",
            "Requirement already satisfied: idna<3,>=2.5 in /usr/local/lib/python3.7/dist-packages (from requests>=2.19->qiskit-ibmq-provider==0.19.2->qiskit) (2.10)\n",
            "Requirement already satisfied: chardet<4,>=3.0.2 in /usr/local/lib/python3.7/dist-packages (from requests>=2.19->qiskit-ibmq-provider==0.19.2->qiskit) (3.0.4)\n",
            "Requirement already satisfied: certifi>=2017.4.17 in /usr/local/lib/python3.7/dist-packages (from requests>=2.19->qiskit-ibmq-provider==0.19.2->qiskit) (2022.6.15)\n",
            "Collecting ntlm-auth>=1.0.2\n",
            "  Downloading ntlm_auth-1.5.0-py2.py3-none-any.whl (29 kB)\n",
            "Collecting cryptography>=1.3\n",
            "  Downloading cryptography-37.0.4-cp36-abi3-manylinux_2_24_x86_64.whl (4.1 MB)\n",
            "\u001b[K     |████████████████████████████████| 4.1 MB 56.4 MB/s \n",
            "\u001b[?25hRequirement already satisfied: cffi>=1.12 in /usr/local/lib/python3.7/dist-packages (from cryptography>=1.3->requests-ntlm>=1.1.0->qiskit-ibmq-provider==0.19.2->qiskit) (1.15.1)\n",
            "Requirement already satisfied: pycparser in /usr/local/lib/python3.7/dist-packages (from cffi>=1.12->cryptography>=1.3->requests-ntlm>=1.1.0->qiskit-ibmq-provider==0.19.2->qiskit) (2.21)\n",
            "Requirement already satisfied: importlib-metadata>=1.7.0 in /usr/local/lib/python3.7/dist-packages (from stevedore>=3.0.0->qiskit-terra==0.21.2->qiskit) (4.12.0)\n",
            "Collecting pbr!=2.1.0,>=2.0.0\n",
            "  Downloading pbr-5.10.0-py2.py3-none-any.whl (112 kB)\n",
            "\u001b[K     |████████████████████████████████| 112 kB 64.0 MB/s \n",
            "\u001b[?25hRequirement already satisfied: zipp>=0.5 in /usr/local/lib/python3.7/dist-packages (from importlib-metadata>=1.7.0->stevedore>=3.0.0->qiskit-terra==0.21.2->qiskit) (3.8.1)\n",
            "Requirement already satisfied: mpmath>=0.19 in /usr/local/lib/python3.7/dist-packages (from sympy>=1.3->qiskit-terra==0.21.2->qiskit) (1.2.1)\n",
            "Building wheels for collected packages: qiskit\n",
            "  Building wheel for qiskit (setup.py) ... \u001b[?25l\u001b[?25hdone\n",
            "  Created wheel for qiskit: filename=qiskit-0.37.2-py3-none-any.whl size=12109 sha256=5888e9e964e58325d821dee2ca5a569468a238c0b32a3dea6cd3ac55f77f9651\n",
            "  Stored in directory: /root/.cache/pip/wheels/e6/bd/f3/26c31cfff4a3dbacb1256e46bbe47b658e80aeae833972c757\n",
            "Successfully built qiskit\n",
            "Installing collected packages: pbr, tweedledum, symengine, stevedore, shared-memory38, retworkx, ply, ntlm-auth, cryptography, websockets, websocket-client, requests-ntlm, qiskit-terra, qiskit-ibmq-provider, qiskit-aer, qiskit\n",
            "Successfully installed cryptography-37.0.4 ntlm-auth-1.5.0 pbr-5.10.0 ply-3.11 qiskit-0.37.2 qiskit-aer-0.10.4 qiskit-ibmq-provider-0.19.2 qiskit-terra-0.21.2 requests-ntlm-1.1.0 retworkx-0.11.0 shared-memory38-0.1.2 stevedore-3.5.0 symengine-0.9.2 tweedledum-1.1.1 websocket-client-1.4.0 websockets-10.3\n",
            "Looking in indexes: https://pypi.org/simple, https://us-python.pkg.dev/colab-wheels/public/simple/\n",
            "Collecting qiskit_machine_learning\n",
            "  Downloading qiskit_machine_learning-0.4.0-py3-none-any.whl (126 kB)\n",
            "\u001b[K     |████████████████████████████████| 126 kB 7.1 MB/s \n",
            "\u001b[?25hRequirement already satisfied: psutil>=5 in /usr/local/lib/python3.7/dist-packages (from qiskit_machine_learning) (5.4.8)\n",
            "Requirement already satisfied: qiskit-terra>=0.20.0 in /usr/local/lib/python3.7/dist-packages (from qiskit_machine_learning) (0.21.2)\n",
            "Requirement already satisfied: scipy>=1.4 in /usr/local/lib/python3.7/dist-packages (from qiskit_machine_learning) (1.7.3)\n",
            "Requirement already satisfied: dill>=0.3.4 in /usr/local/lib/python3.7/dist-packages (from qiskit_machine_learning) (0.3.5.1)\n",
            "Requirement already satisfied: setuptools>=40.1.0 in /usr/local/lib/python3.7/dist-packages (from qiskit_machine_learning) (57.4.0)\n",
            "Requirement already satisfied: scikit-learn>=0.20.0 in /usr/local/lib/python3.7/dist-packages (from qiskit_machine_learning) (1.0.2)\n",
            "Requirement already satisfied: fastdtw in /usr/local/lib/python3.7/dist-packages (from qiskit_machine_learning) (0.3.4)\n",
            "Requirement already satisfied: numpy>=1.17 in /usr/local/lib/python3.7/dist-packages (from qiskit_machine_learning) (1.21.6)\n",
            "Requirement already satisfied: shared-memory38 in /usr/local/lib/python3.7/dist-packages (from qiskit-terra>=0.20.0->qiskit_machine_learning) (0.1.2)\n",
            "Requirement already satisfied: sympy>=1.3 in /usr/local/lib/python3.7/dist-packages (from qiskit-terra>=0.20.0->qiskit_machine_learning) (1.7.1)\n",
            "Requirement already satisfied: ply>=3.10 in /usr/local/lib/python3.7/dist-packages (from qiskit-terra>=0.20.0->qiskit_machine_learning) (3.11)\n",
            "Requirement already satisfied: stevedore>=3.0.0 in /usr/local/lib/python3.7/dist-packages (from qiskit-terra>=0.20.0->qiskit_machine_learning) (3.5.0)\n",
            "Requirement already satisfied: retworkx>=0.11.0 in /usr/local/lib/python3.7/dist-packages (from qiskit-terra>=0.20.0->qiskit_machine_learning) (0.11.0)\n",
            "Requirement already satisfied: tweedledum<2.0,>=1.1 in /usr/local/lib/python3.7/dist-packages (from qiskit-terra>=0.20.0->qiskit_machine_learning) (1.1.1)\n",
            "Requirement already satisfied: typing-extensions in /usr/local/lib/python3.7/dist-packages (from qiskit-terra>=0.20.0->qiskit_machine_learning) (4.1.1)\n",
            "Requirement already satisfied: symengine>=0.9 in /usr/local/lib/python3.7/dist-packages (from qiskit-terra>=0.20.0->qiskit_machine_learning) (0.9.2)\n",
            "Requirement already satisfied: python-dateutil>=2.8.0 in /usr/local/lib/python3.7/dist-packages (from qiskit-terra>=0.20.0->qiskit_machine_learning) (2.8.2)\n",
            "Requirement already satisfied: six>=1.5 in /usr/local/lib/python3.7/dist-packages (from python-dateutil>=2.8.0->qiskit-terra>=0.20.0->qiskit_machine_learning) (1.15.0)\n",
            "Requirement already satisfied: threadpoolctl>=2.0.0 in /usr/local/lib/python3.7/dist-packages (from scikit-learn>=0.20.0->qiskit_machine_learning) (3.1.0)\n",
            "Requirement already satisfied: joblib>=0.11 in /usr/local/lib/python3.7/dist-packages (from scikit-learn>=0.20.0->qiskit_machine_learning) (1.1.0)\n",
            "Requirement already satisfied: importlib-metadata>=1.7.0 in /usr/local/lib/python3.7/dist-packages (from stevedore>=3.0.0->qiskit-terra>=0.20.0->qiskit_machine_learning) (4.12.0)\n",
            "Requirement already satisfied: pbr!=2.1.0,>=2.0.0 in /usr/local/lib/python3.7/dist-packages (from stevedore>=3.0.0->qiskit-terra>=0.20.0->qiskit_machine_learning) (5.10.0)\n",
            "Requirement already satisfied: zipp>=0.5 in /usr/local/lib/python3.7/dist-packages (from importlib-metadata>=1.7.0->stevedore>=3.0.0->qiskit-terra>=0.20.0->qiskit_machine_learning) (3.8.1)\n",
            "Requirement already satisfied: mpmath>=0.19 in /usr/local/lib/python3.7/dist-packages (from sympy>=1.3->qiskit-terra>=0.20.0->qiskit_machine_learning) (1.2.1)\n",
            "Installing collected packages: qiskit-machine-learning\n",
            "Successfully installed qiskit-machine-learning-0.4.0\n",
            "Looking in indexes: https://pypi.org/simple, https://us-python.pkg.dev/colab-wheels/public/simple/\n",
            "Requirement already satisfied: ipython in /usr/local/lib/python3.7/dist-packages (7.9.0)\n",
            "Requirement already satisfied: traitlets>=4.2 in /usr/local/lib/python3.7/dist-packages (from ipython) (5.1.1)\n",
            "Requirement already satisfied: decorator in /usr/local/lib/python3.7/dist-packages (from ipython) (4.4.2)\n",
            "Collecting jedi>=0.10\n",
            "  Downloading jedi-0.18.1-py2.py3-none-any.whl (1.6 MB)\n",
            "\u001b[K     |████████████████████████████████| 1.6 MB 8.1 MB/s \n",
            "\u001b[?25hRequirement already satisfied: backcall in /usr/local/lib/python3.7/dist-packages (from ipython) (0.2.0)\n",
            "Requirement already satisfied: pexpect in /usr/local/lib/python3.7/dist-packages (from ipython) (4.8.0)\n",
            "Requirement already satisfied: pygments in /usr/local/lib/python3.7/dist-packages (from ipython) (2.6.1)\n",
            "Requirement already satisfied: pickleshare in /usr/local/lib/python3.7/dist-packages (from ipython) (0.7.5)\n",
            "Requirement already satisfied: setuptools>=18.5 in /usr/local/lib/python3.7/dist-packages (from ipython) (57.4.0)\n",
            "Requirement already satisfied: prompt-toolkit<2.1.0,>=2.0.0 in /usr/local/lib/python3.7/dist-packages (from ipython) (2.0.10)\n",
            "Requirement already satisfied: parso<0.9.0,>=0.8.0 in /usr/local/lib/python3.7/dist-packages (from jedi>=0.10->ipython) (0.8.3)\n",
            "Requirement already satisfied: six>=1.9.0 in /usr/local/lib/python3.7/dist-packages (from prompt-toolkit<2.1.0,>=2.0.0->ipython) (1.15.0)\n",
            "Requirement already satisfied: wcwidth in /usr/local/lib/python3.7/dist-packages (from prompt-toolkit<2.1.0,>=2.0.0->ipython) (0.2.5)\n",
            "Requirement already satisfied: ptyprocess>=0.5 in /usr/local/lib/python3.7/dist-packages (from pexpect->ipython) (0.7.0)\n",
            "Installing collected packages: jedi\n",
            "Successfully installed jedi-0.18.1\n"
          ]
        }
      ]
    },
    {
      "cell_type": "markdown",
      "source": [
        "import とversion確認\n"
      ],
      "metadata": {
        "id": "br9aoUBoTP_s"
      },
      "id": "br9aoUBoTP_s"
    },
    {
      "cell_type": "code",
      "source": [
        "import qiskit\n",
        "from qiskit import  *\n",
        "qiskit.__version__"
      ],
      "metadata": {
        "colab": {
          "base_uri": "https://localhost:8080/",
          "height": 35
        },
        "id": "hfzrN8TETPr2",
        "outputId": "2b50c2f8-8a3f-4e76-9e96-8af4a59656d2"
      },
      "id": "hfzrN8TETPr2",
      "execution_count": null,
      "outputs": [
        {
          "output_type": "execute_result",
          "data": {
            "text/plain": [
              "'0.21.2'"
            ],
            "application/vnd.google.colaboratory.intrinsic+json": {
              "type": "string"
            }
          },
          "metadata": {},
          "execution_count": 2
        }
      ]
    },
    {
      "cell_type": "code",
      "execution_count": null,
      "id": "878e5228-e6fe-4d02-a853-7284f3290d9f",
      "metadata": {
        "id": "878e5228-e6fe-4d02-a853-7284f3290d9f"
      },
      "outputs": [],
      "source": [
        "import numpy as np\n",
        "import matplotlib.pyplot as plt\n",
        "\n",
        "from torch import Tensor\n",
        "from torch.nn import Linear, CrossEntropyLoss, MSELoss\n",
        "from torch.optim import LBFGS\n",
        "\n",
        "from qiskit import Aer, QuantumCircuit\n",
        "from qiskit.utils import QuantumInstance, algorithm_globals\n",
        "from qiskit.opflow import AerPauliExpectation\n",
        "from qiskit.circuit import Parameter\n",
        "from qiskit.circuit.library import RealAmplitudes, ZZFeatureMap\n",
        "from qiskit_machine_learning.neural_networks import CircuitQNN, TwoLayerQNN\n",
        "from qiskit_machine_learning.connectors import TorchConnector\n",
        "\n",
        "# Set seed for random generators\n",
        "algorithm_globals.random_seed = 42"
      ]
    },
    {
      "cell_type": "code",
      "execution_count": null,
      "id": "c3bc9c83-0a83-427d-983c-ed5bff77d1f5",
      "metadata": {
        "id": "c3bc9c83-0a83-427d-983c-ed5bff77d1f5"
      },
      "outputs": [],
      "source": [
        "# declare quantum instance\n",
        "qi = QuantumInstance(Aer.get_backend(\"aer_simulator_statevector\"))"
      ]
    },
    {
      "cell_type": "code",
      "execution_count": null,
      "id": "3d5de547-597f-4424-b767-5d0b66628604",
      "metadata": {
        "colab": {
          "base_uri": "https://localhost:8080/",
          "height": 265
        },
        "id": "3d5de547-597f-4424-b767-5d0b66628604",
        "outputId": "fa5208b2-1dc0-4455-ce1e-2db074cf0b3b"
      },
      "outputs": [
        {
          "output_type": "display_data",
          "data": {
            "text/plain": [
              "<Figure size 432x288 with 1 Axes>"
            ],
            "image/png": "[encoded data removed]"
          },
          "metadata": {
            "needs_background": "light"
          }
        }
      ],
      "source": [
        "# Generate random dataset\n",
        "\n",
        "# Select dataset dimension (num_inputs) and size (num_samples)\n",
        "num_inputs = 2\n",
        "num_samples = 20\n",
        "\n",
        "# Generate random input coordinates (X) and binary labels (y)\n",
        "X = 2 * algorithm_globals.random.random([num_samples, num_inputs]) - 1\n",
        "y01 = 1 * (np.sum(X, axis=1) >= 0)  # in { 0,  1}, y01 will be used for CircuitQNN example\n",
        "y = 2 * y01 - 1  # in {-1, +1}, y will be used for OplowQNN example\n",
        "\n",
        "# Convert to torch Tensors\n",
        "X_ = Tensor(X)\n",
        "y01_ = Tensor(y01).reshape(len(y)).long()\n",
        "y_ = Tensor(y).reshape(len(y), 1)\n",
        "\n",
        "# Plot dataset\n",
        "for x, y_target in zip(X, y):\n",
        "    if y_target == 1:\n",
        "        plt.plot(x[0], x[1], \"bo\")\n",
        "    else:\n",
        "        plt.plot(x[0], x[1], \"go\")\n",
        "plt.plot([-1, 1], [1, -1], \"--\", color=\"black\")\n",
        "plt.show()"
      ]
    },
    {
      "cell_type": "code",
      "execution_count": null,
      "id": "ce3c9135-8413-40e5-8a69-2e70ad327beb",
      "metadata": {
        "colab": {
          "base_uri": "https://localhost:8080/"
        },
        "id": "ce3c9135-8413-40e5-8a69-2e70ad327beb",
        "outputId": "b4f1b354-65bf-4350-adb4-723306949337"
      },
      "outputs": [
        {
          "output_type": "stream",
          "name": "stdout",
          "text": [
            "ComposedOp([\n",
            "  OperatorMeasurement(1.0 * ZZ),\n",
            "  CircuitStateFn(\n",
            "       ┌──────────────────────────┐»\n",
            "  q_0: ┤0                         ├»\n",
            "       │  ZZFeatureMap(x[0],x[1]) │»\n",
            "  q_1: ┤1                         ├»\n",
            "       └──────────────────────────┘»\n",
            "  «     ┌──────────────────────────────────────────────────────────┐\n",
            "  «q_0: ┤0                                                         ├\n",
            "  «     │  RealAmplitudes(θ[0],θ[1],θ[2],θ[3],θ[4],θ[5],θ[6],θ[7]) │\n",
            "  «q_1: ┤1                                                         ├\n",
            "  «     └──────────────────────────────────────────────────────────┘\n",
            "  )\n",
            "])\n",
            "Initial weights:  [-0.0756335   0.00126599  0.03885249  0.01622332 -0.06004487  0.06082491\n",
            "  0.04308143  0.0477968 ]\n"
          ]
        }
      ],
      "source": [
        "# Set up QNN\n",
        "# Note: we are not providing them explicitly in this examples,\n",
        "# but TwoLayerQNN requires a feature_map and ansatz to work.\n",
        "# By default, these parameters are set to  ZZFeatureMap\n",
        "# and RealAmplitudes (respectively).\n",
        "qnn1 = TwoLayerQNN(num_qubits=num_inputs, quantum_instance=qi)\n",
        "print(qnn1.operator)\n",
        "\n",
        "# Set up PyTorch module\n",
        "# Note: If we don't explicitly declare the initial weights\n",
        "# they are chosen uniformly at random from [-1, 1].\n",
        "initial_weights = 0.1 * (2 * algorithm_globals.random.random(qnn1.num_weights) - 1)\n",
        "model1 = TorchConnector(qnn1, initial_weights=initial_weights)\n",
        "print(\"Initial weights: \", initial_weights)"
      ]
    },
    {
      "cell_type": "code",
      "execution_count": null,
      "id": "30ac6bb1-c190-4424-95f9-803270b4c224",
      "metadata": {
        "colab": {
          "base_uri": "https://localhost:8080/"
        },
        "id": "30ac6bb1-c190-4424-95f9-803270b4c224",
        "outputId": "3ceafc70-3cc0-4d6d-de8c-a7d651c13925"
      },
      "outputs": [
        {
          "output_type": "execute_result",
          "data": {
            "text/plain": [
              "tensor([-0.0916], grad_fn=<_TorchNNFunctionBackward>)"
            ]
          },
          "metadata": {},
          "execution_count": 15
        }
      ],
      "source": [
        "# Test with a single input\n",
        "model1(X_[0, :])"
      ]
    },
    {
      "cell_type": "code",
      "source": [
        "# Define optimizer and loss\n",
        "optimizer = LBFGS(model1.parameters())\n",
        "f_loss = MSELoss(reduction=\"sum\")\n",
        "\n",
        "# Start training\n",
        "model1.train()  # set model to training mode\n",
        "\n",
        "\n",
        "# Note from (https://pytorch.org/docs/stable/optim.html):\n",
        "# Some optimization algorithms such as LBFGS need to\n",
        "# reevaluate the function multiple times, so you have to\n",
        "# pass in a closure that allows them to recompute your model.\n",
        "# The closure should clear the gradients, compute the loss,\n",
        "# and return it.\n",
        "def closure():\n",
        "    optimizer.zero_grad()  # Initialize/clear gradients\n",
        "    loss = f_loss(model1(X_), y_)  # Evaluate loss function\n",
        "    loss.backward()  # Backward pass\n",
        "    print(loss.item())  # Print loss\n",
        "    return loss\n",
        "\n",
        "\n",
        "# Run optimizer step4\n",
        "optimizer.step(closure)"
      ],
      "metadata": {
        "colab": {
          "base_uri": "https://localhost:8080/"
        },
        "id": "y-MEfwt6VZSI",
        "outputId": "c1cf680b-29a6-4397-9ff0-ac6a75d8ab05"
      },
      "id": "y-MEfwt6VZSI",
      "execution_count": null,
      "outputs": [
        {
          "output_type": "stream",
          "name": "stdout",
          "text": [
            "17.323471069335938\n",
            "14.596670150756836\n",
            "14.31265926361084\n",
            "14.170870780944824\n",
            "13.602341651916504\n",
            "13.542295455932617\n",
            "12.925769805908203\n",
            "12.971969604492188\n",
            "12.811230659484863\n",
            "12.807812690734863\n",
            "12.806640625\n",
            "12.805679321289062\n",
            "12.805428504943848\n",
            "12.805415153503418\n",
            "12.805413246154785\n",
            "12.805413246154785\n"
          ]
        },
        {
          "output_type": "execute_result",
          "data": {
            "text/plain": [
              "tensor(17.3235, grad_fn=<MseLossBackward0>)"
            ]
          },
          "metadata": {},
          "execution_count": 16
        }
      ]
    },
    {
      "cell_type": "code",
      "source": [
        "# Evaluate model and compute accuracy\n",
        "y_predict = []\n",
        "for x, y_target in zip(X, y):\n",
        "    output = model1(Tensor(x))\n",
        "    y_predict += [np.sign(output.detach().numpy())[0]]\n",
        "\n",
        "print(\"Accuracy:\", sum(y_predict == y) / len(y))\n",
        "\n",
        "# Plot results\n",
        "# red == wrongly classified\n",
        "for x, y_target, y_p in zip(X, y, y_predict):\n",
        "    if y_target == 1:\n",
        "        plt.plot(x[0], x[1], \"bo\")\n",
        "    else:\n",
        "        plt.plot(x[0], x[1], \"go\")\n",
        "    if y_target != y_p:\n",
        "        plt.scatter(x[0], x[1], s=200, facecolors=\"none\", edgecolors=\"r\", linewidths=2)\n",
        "plt.plot([-1, 1], [1, -1], \"--\", color=\"black\")\n",
        "plt.show()"
      ],
      "metadata": {
        "colab": {
          "base_uri": "https://localhost:8080/",
          "height": 282
        },
        "id": "OPVxKCiAV9UN",
        "outputId": "ccfde964-c523-4289-c101-b3ace0d072d1"
      },
      "id": "OPVxKCiAV9UN",
      "execution_count": null,
      "outputs": [
        {
          "output_type": "stream",
          "name": "stdout",
          "text": [
            "Accuracy: 0.85\n"
          ]
        },
        {
          "output_type": "display_data",
          "data": {
            "text/plain": [
              "<Figure size 432x288 with 1 Axes>"
            ],
            "image/png": "[encoded data removed]"
          },
          "metadata": {
            "needs_background": "light"
          }
        }
      ]
    },
    {
      "cell_type": "code",
      "source": [
        "# Define feature map and ansatz\n",
        "feature_map = ZZFeatureMap(num_inputs)\n",
        "ansatz = RealAmplitudes(num_inputs, entanglement=\"linear\", reps=1)\n",
        "\n",
        "# Define quantum circuit of num_qubits = input dim\n",
        "# Append feature map and ansatz\n",
        "qc = QuantumCircuit(num_inputs)\n",
        "qc.append(feature_map, range(num_inputs))\n",
        "qc.append(ansatz, range(num_inputs))\n",
        "\n",
        "\n",
        "# Define CircuitQNN and initial setup\n",
        "parity = lambda x: \"{:b}\".format(x).count(\"1\") % 2  # optional interpret function\n",
        "output_shape = 2  # parity = 0, 1\n",
        "qnn2 = CircuitQNN(\n",
        "    qc,\n",
        "    input_params=feature_map.parameters,\n",
        "    weight_params=ansatz.parameters,\n",
        "    interpret=parity,\n",
        "    output_shape=output_shape,\n",
        "    quantum_instance=qi,\n",
        ")\n",
        "\n",
        "# Set up PyTorch module\n",
        "# Reminder: If we don't explicitly declare the initial weights\n",
        "# they are chosen uniformly at random from [-1, 1].\n",
        "initial_weights = 0.1 * (2 * algorithm_globals.random.random(qnn2.num_weights) - 1)\n",
        "print(\"Initial weights: \", initial_weights)\n",
        "model2 = TorchConnector(qnn2, initial_weights)"
      ],
      "metadata": {
        "colab": {
          "base_uri": "https://localhost:8080/"
        },
        "id": "_2oaPw3uWH_o",
        "outputId": "c0dd448b-ff2f-487f-8dfd-64b48237bb22"
      },
      "id": "_2oaPw3uWH_o",
      "execution_count": null,
      "outputs": [
        {
          "output_type": "stream",
          "name": "stdout",
          "text": [
            "Initial weights:  [-0.07378845 -0.07524924  0.08551251 -0.02048436]\n"
          ]
        }
      ]
    },
    {
      "cell_type": "code",
      "source": [
        "# Define model, optimizer, and loss\n",
        "optimizer = LBFGS(model2.parameters())\n",
        "f_loss = CrossEntropyLoss()  # Our output will be in the [0,1] range\n",
        "\n",
        "# Start training\n",
        "model2.train()\n",
        "\n",
        "# Define LBFGS closure method (explained in previous section)\n",
        "def closure():\n",
        "    optimizer.zero_grad(set_to_none=True)  # Initialize gradient\n",
        "    loss = f_loss(model2(X_), y01_)  # Calculate loss\n",
        "    loss.backward()  # Backward pass\n",
        "\n",
        "    print(loss.item())  # Print loss\n",
        "    return loss\n",
        "\n",
        "\n",
        "# Run optimizer (LBFGS requires closure)\n",
        "optimizer.step(closure);"
      ],
      "metadata": {
        "colab": {
          "base_uri": "https://localhost:8080/"
        },
        "id": "kc8DfEByWOPX",
        "outputId": "e8433a10-f307-44c5-9104-117acf02eb67"
      },
      "id": "kc8DfEByWOPX",
      "execution_count": null,
      "outputs": [
        {
          "output_type": "stream",
          "name": "stdout",
          "text": [
            "0.7782841920852661\n",
            "0.7725659608840942\n",
            "0.7659587264060974\n",
            "0.7584818005561829\n",
            "0.7502431869506836\n",
            "0.7414529919624329\n",
            "0.7324103713035583\n",
            "0.8014973402023315\n",
            "0.8160041570663452\n",
            "0.7365812063217163\n",
            "0.8133867383003235\n",
            "0.7366460561752319\n",
            "0.641613245010376\n",
            "0.6588781476020813\n",
            "0.7351698875427246\n",
            "0.7705353498458862\n",
            "0.7696670293807983\n",
            "0.7617349028587341\n",
            "0.7817143797874451\n",
            "0.659096360206604\n"
          ]
        }
      ]
    },
    {
      "cell_type": "code",
      "source": [
        "# Evaluate model and compute accuracy\n",
        "y_predict = []\n",
        "for x in X:\n",
        "    output = model2(Tensor(x))\n",
        "    y_predict += [np.argmax(output.detach().numpy())]\n",
        "\n",
        "print(\"Accuracy:\", sum(y_predict == y01) / len(y01))\n",
        "\n",
        "# plot results\n",
        "# red == wrongly classified\n",
        "for x, y_target, y_ in zip(X, y01, y_predict):\n",
        "    if y_target == 1:\n",
        "        plt.plot(x[0], x[1], \"bo\")\n",
        "    else:\n",
        "        plt.plot(x[0], x[1], \"go\")\n",
        "    if y_target != y_:\n",
        "        plt.scatter(x[0], x[1], s=200, facecolors=\"none\", edgecolors=\"r\", linewidths=2)\n",
        "plt.plot([-1, 1], [1, -1], \"--\", color=\"black\")\n",
        "plt.show()"
      ],
      "metadata": {
        "colab": {
          "base_uri": "https://localhost:8080/",
          "height": 282
        },
        "id": "R7WZ-cxtWiRQ",
        "outputId": "3c871a5f-74f6-4b11-cfa6-9ca1e9275aca"
      },
      "id": "R7WZ-cxtWiRQ",
      "execution_count": null,
      "outputs": [
        {
          "output_type": "stream",
          "name": "stdout",
          "text": [
            "Accuracy: 0.4\n"
          ]
        },
        {
          "output_type": "display_data",
          "data": {
            "text/plain": [
              "<Figure size 432x288 with 1 Axes>"
            ],
            "image/png": "[encoded data removed]"
          },
          "metadata": {
            "needs_background": "light"
          }
        }
      ]
    },
    {
      "cell_type": "code",
      "source": [
        "# Generate random dataset\n",
        "\n",
        "num_samples = 20\n",
        "eps = 0.2\n",
        "lb, ub = -np.pi, np.pi\n",
        "f = lambda x: np.sin(x)\n",
        "\n",
        "X = (ub - lb) * algorithm_globals.random.random([num_samples, 1]) + lb\n",
        "y = f(X) + eps * (2 * algorithm_globals.random.random([num_samples, 1]) - 1)\n",
        "plt.plot(np.linspace(lb, ub), f(np.linspace(lb, ub)), \"r--\")\n",
        "plt.plot(X, y, \"bo\")\n",
        "plt.show()"
      ],
      "metadata": {
        "colab": {
          "base_uri": "https://localhost:8080/",
          "height": 265
        },
        "id": "75creq5HWpz5",
        "outputId": "472e4ae0-6f2f-4e2a-a623-0b83e2e0447c"
      },
      "id": "75creq5HWpz5",
      "execution_count": null,
      "outputs": [
        {
          "output_type": "display_data",
          "data": {
            "text/plain": [
              "<Figure size 432x288 with 1 Axes>"
            ],
            "image/png": "[encoded data removed]"
          },
          "metadata": {
            "needs_background": "light"
          }
        }
      ]
    },
    {
      "cell_type": "code",
      "source": [
        "# Construct simple feature map\n",
        "param_x = Parameter(\"x\")\n",
        "feature_map = QuantumCircuit(1, name=\"fm\")\n",
        "feature_map.ry(param_x, 0)\n",
        "\n",
        "# Construct simple feature map\n",
        "param_y = Parameter(\"y\")\n",
        "ansatz = QuantumCircuit(1, name=\"vf\")\n",
        "ansatz.ry(param_y, 0)\n",
        "\n",
        "# Construct QNN\n",
        "qnn3 = TwoLayerQNN(1, feature_map, ansatz, quantum_instance=qi)\n",
        "print(qnn3.operator)\n",
        "\n",
        "# Set up PyTorch module\n",
        "# Reminder: If we don't explicitly declare the initial weights\n",
        "# they are chosen uniformly at random from [-1, 1].\n",
        "initial_weights = 0.1 * (2 * algorithm_globals.random.random(qnn3.num_weights) - 1)\n",
        "model3 = TorchConnector(qnn3, initial_weights)"
      ],
      "metadata": {
        "colab": {
          "base_uri": "https://localhost:8080/"
        },
        "id": "GD3AxddEWvzG",
        "outputId": "703adef4-7b74-44ca-fbd5-5c7e917f3f53"
      },
      "id": "GD3AxddEWvzG",
      "execution_count": null,
      "outputs": [
        {
          "output_type": "stream",
          "name": "stdout",
          "text": [
            "ComposedOp([\n",
            "  OperatorMeasurement(1.0 * Z),\n",
            "  CircuitStateFn(\n",
            "     ┌───────┐┌───────┐\n",
            "  q: ┤ fm(x) ├┤ vf(y) ├\n",
            "     └───────┘└───────┘\n",
            "  )\n",
            "])\n"
          ]
        }
      ]
    },
    {
      "cell_type": "code",
      "source": [
        "# Define optimizer and loss function\n",
        "optimizer = LBFGS(model3.parameters())\n",
        "f_loss = MSELoss(reduction=\"sum\")\n",
        "\n",
        "# Start training\n",
        "model3.train()  # set model to training mode\n",
        "\n",
        "# Define objective function\n",
        "def closure():\n",
        "    optimizer.zero_grad(set_to_none=True)  # Initialize gradient\n",
        "    loss = f_loss(model3(Tensor(X)), Tensor(y))  # Compute batch loss\n",
        "    loss.backward()  # Backward pass\n",
        "    print(loss.item())  # Print loss\n",
        "    return loss\n",
        "\n",
        "\n",
        "# Run optimizer\n",
        "optimizer.step(closure)\n"
      ],
      "metadata": {
        "colab": {
          "base_uri": "https://localhost:8080/"
        },
        "id": "-XbeseqwW-ML",
        "outputId": "890666b2-9cbb-4360-a184-07405a7141f6"
      },
      "id": "-XbeseqwW-ML",
      "execution_count": null,
      "outputs": [
        {
          "output_type": "stream",
          "name": "stdout",
          "text": [
            "16.66506004333496\n",
            "2.710993528366089\n",
            "27.2949275970459\n",
            "13.107039451599121\n",
            "19.85063362121582\n",
            "3.93727445602417\n",
            "3.811336040496826\n",
            "0.20423352718353271\n",
            "0.1954575926065445\n",
            "0.19540949165821075\n"
          ]
        },
        {
          "output_type": "execute_result",
          "data": {
            "text/plain": [
              "tensor(16.6651, grad_fn=<MseLossBackward0>)"
            ]
          },
          "metadata": {},
          "execution_count": 23
        }
      ]
    },
    {
      "cell_type": "code",
      "source": [
        "# Plot target function\n",
        "plt.plot(np.linspace(lb, ub), f(np.linspace(lb, ub)), \"r--\")\n",
        "\n",
        "# Plot data\n",
        "plt.plot(X, y, \"bo\")\n",
        "\n",
        "# Plot fitted line\n",
        "y_ = []\n",
        "for x in np.linspace(lb, ub):\n",
        "    output = model3(Tensor([x]))\n",
        "    y_ += [output.detach().numpy()[0]]\n",
        "plt.plot(np.linspace(lb, ub), y_, \"g-\")\n",
        "plt.show()"
      ],
      "metadata": {
        "colab": {
          "base_uri": "https://localhost:8080/",
          "height": 265
        },
        "id": "BK3ljhACXEU9",
        "outputId": "7be3f7b6-2c2a-4c79-d016-591a50294ff0"
      },
      "id": "BK3ljhACXEU9",
      "execution_count": null,
      "outputs": [
        {
          "output_type": "display_data",
          "data": {
            "text/plain": [
              "<Figure size 432x288 with 1 Axes>"
            ],
            "image/png": "[encoded data removed]"
          },
          "metadata": {
            "needs_background": "light"
          }
        }
      ]
    },
    {
      "cell_type": "markdown",
      "id": "cafd67b0-20ad-4844-ae33-f1a46c61d60b",
      "metadata": {
        "id": "cafd67b0-20ad-4844-ae33-f1a46c61d60b"
      },
      "source": [
        "#パート 2: MNIST 分類、ハイブリッドQNN\n",
        "\n",
        "2番目の部分では、TorchConnector を使用したハイブリッドの量子古典的なニューラルネットワークの活用方法を示します。 より複雑な画像分類タスクをMNISTの手書きの数字データセットで実行します。\n",
        "\n",
        "ハイブリッドの量子古典ニューラルネットワークの詳細(TorchConnector の前)については、Qiskit Textbook の対応するセクションを参照してください。"
      ]
    },
    {
      "cell_type": "code",
      "execution_count": null,
      "id": "5c72f677-1941-4b06-8584-0a53576401f6",
      "metadata": {
        "id": "5c72f677-1941-4b06-8584-0a53576401f6"
      },
      "outputs": [],
      "source": [
        "# Additional torch-related imports\n",
        "import torch\n",
        "from torch import cat, no_grad, manual_seed\n",
        "from torch.utils.data import DataLoader\n",
        "from torchvision import datasets, transforms\n",
        "import torch.optim as optim\n",
        "from torch.nn import (\n",
        "    Module,\n",
        "    Conv2d,\n",
        "    Linear,\n",
        "    Dropout2d,\n",
        "    NLLLoss,\n",
        "    MaxPool2d,\n",
        "    Flatten,\n",
        "    Sequential,\n",
        "    ReLU,\n",
        ")\n",
        "import torch.nn.functional as F"
      ]
    },
    {
      "cell_type": "markdown",
      "source": [
        "##ステップ 1: 学習とテスト用のデータ・ローダーの定義¶\n",
        "\n",
        "torchvision API を利用して、 MNIST データセット のサブセットを直接ロードし、学習とテストのための DataLoader (リンク) を定義します。"
      ],
      "metadata": {
        "id": "RZ6B7YOOXbtS"
      },
      "id": "RZ6B7YOOXbtS"
    },
    {
      "cell_type": "code",
      "execution_count": null,
      "id": "6a943cf1-8e53-4195-87aa-448bd2a292dc",
      "metadata": {
        "colab": {
          "base_uri": "https://localhost:8080/",
          "height": 423,
          "referenced_widgets": [
            "226e917635b648d9bc63ff2eb0ad1c52",
            "e33c285bc3a6401bb0ee88e674bdce91",
            "951294beac4b4f418a80b00d2de084b3",
            "cb4a9bcabf294a22a71448a1ee273352",
            "af0b066f6f8147ecacdbd12351786bb7",
            "d60d9a6ae25b4552b7b9c2de1754d185",
            "172a0d3dd18e4d3e94a1ed0afc8edabd",
            "12a92b3f8d9e4de6a612a30389da7148",
            "f9b08c76bb734971bd7d47ae82069ad5",
            "f604f4ca3eb54437a1e43511c86bc3ab",
            "347d6b19d77544e78f328bee6fdc0ffb",
            "d9edc9ca735c4b26b1feb1ae6400c751",
            "8517aed5edad40d68cf6ec1b32105ac8",
            "d348a966b8084fe881ce92339b72bf27",
            "688a6d358006436f8a8a396459aacf89",
            "82b39507594c49759a342b3cb5d4bb32",
            "413df6a013bf45029ebd7efc2e4a87bf",
            "6714440befd944f28dbb58e06b660fc2",
            "79c450d5e66e45d4a909ceb8fa9d7d7f",
            "19c8414c02564521be0cbbef5315f7e4",
            "8190ef6e39e946b0b6d85c0ec40666bf",
            "1af2a816aa884085b643fac489940663",
            "08c7b14e3c6f4e58ab5b10ca07e67c1e",
            "0ee019a591344fd99b611b901fb2a63c",
            "b302a4d1b6c34055bf1751ee74ae5cc9",
            "ec832a022d7845489361f8cbd46f59e5",
            "9fca034634f245379ad1082717d1e584",
            "d9e6eae27e9a4b5eb1d6e780f26eace3",
            "09c4b30aeec54549bb85609589f225ef",
            "510070d906d5400ab08b7f48ef225e9c",
            "b573fd69539242f68ff6b1d397d6aa21",
            "f0b2745c1bb048b6a0510b8dfe84c903",
            "b03fd0f744a941c58b619e200386adcf",
            "b14a1fb3b7be44bd80fdb1d408fba788",
            "6641e4a1b3a5412194495d365dbee663",
            "e2f8ba3f4a04448e92a2054f4bf19db6",
            "7dcd6c62d69744eead850342802dc9d3",
            "8b874dcbe9664da385cfeb296d1d1add",
            "4290a93aa9724c3bae5e74f24d900fd7",
            "4ea138cee711472ab00070ba23153353",
            "692e971c485f433ab0eebc043f25f2c3",
            "53e28959e6c04f6183f08df58d744f1b",
            "821b39d1394e4aa4a6f8ca268b52c24b",
            "f572b4d2788e4f82b84df88919716022"
          ]
        },
        "id": "6a943cf1-8e53-4195-87aa-448bd2a292dc",
        "outputId": "ee945c30-09c2-42cb-d544-d508c635e572"
      },
      "outputs": [
        {
          "output_type": "stream",
          "name": "stdout",
          "text": [
            "Downloading http://yann.lecun.com/exdb/mnist/train-images-idx3-ubyte.gz\n",
            "Downloading http://yann.lecun.com/exdb/mnist/train-images-idx3-ubyte.gz to ./data/MNIST/raw/train-images-idx3-ubyte.gz\n"
          ]
        },
        {
          "output_type": "display_data",
          "data": {
            "text/plain": [
              "  0%|          | 0/9912422 [00:00<?, ?it/s]"
            ],
            "application/vnd.jupyter.widget-view+json": {
              "version_major": 2,
              "version_minor": 0,
              "model_id": "226e917635b648d9bc63ff2eb0ad1c52"
            }
          },
          "metadata": {}
        },
        {
          "output_type": "stream",
          "name": "stdout",
          "text": [
            "Extracting ./data/MNIST/raw/train-images-idx3-ubyte.gz to ./data/MNIST/raw\n",
            "\n",
            "Downloading http://yann.lecun.com/exdb/mnist/train-labels-idx1-ubyte.gz\n",
            "Downloading http://yann.lecun.com/exdb/mnist/train-labels-idx1-ubyte.gz to ./data/MNIST/raw/train-labels-idx1-ubyte.gz\n"
          ]
        },
        {
          "output_type": "display_data",
          "data": {
            "text/plain": [
              "  0%|          | 0/28881 [00:00<?, ?it/s]"
            ],
            "application/vnd.jupyter.widget-view+json": {
              "version_major": 2,
              "version_minor": 0,
              "model_id": "d9edc9ca735c4b26b1feb1ae6400c751"
            }
          },
          "metadata": {}
        },
        {
          "output_type": "stream",
          "name": "stdout",
          "text": [
            "Extracting ./data/MNIST/raw/train-labels-idx1-ubyte.gz to ./data/MNIST/raw\n",
            "\n",
            "Downloading http://yann.lecun.com/exdb/mnist/t10k-images-idx3-ubyte.gz\n",
            "Downloading http://yann.lecun.com/exdb/mnist/t10k-images-idx3-ubyte.gz to ./data/MNIST/raw/t10k-images-idx3-ubyte.gz\n"
          ]
        },
        {
          "output_type": "display_data",
          "data": {
            "text/plain": [
              "  0%|          | 0/1648877 [00:00<?, ?it/s]"
            ],
            "application/vnd.jupyter.widget-view+json": {
              "version_major": 2,
              "version_minor": 0,
              "model_id": "08c7b14e3c6f4e58ab5b10ca07e67c1e"
            }
          },
          "metadata": {}
        },
        {
          "output_type": "stream",
          "name": "stdout",
          "text": [
            "Extracting ./data/MNIST/raw/t10k-images-idx3-ubyte.gz to ./data/MNIST/raw\n",
            "\n",
            "Downloading http://yann.lecun.com/exdb/mnist/t10k-labels-idx1-ubyte.gz\n",
            "Downloading http://yann.lecun.com/exdb/mnist/t10k-labels-idx1-ubyte.gz to ./data/MNIST/raw/t10k-labels-idx1-ubyte.gz\n"
          ]
        },
        {
          "output_type": "display_data",
          "data": {
            "text/plain": [
              "  0%|          | 0/4542 [00:00<?, ?it/s]"
            ],
            "application/vnd.jupyter.widget-view+json": {
              "version_major": 2,
              "version_minor": 0,
              "model_id": "b14a1fb3b7be44bd80fdb1d408fba788"
            }
          },
          "metadata": {}
        },
        {
          "output_type": "stream",
          "name": "stdout",
          "text": [
            "Extracting ./data/MNIST/raw/t10k-labels-idx1-ubyte.gz to ./data/MNIST/raw\n",
            "\n"
          ]
        }
      ],
      "source": [
        "# Train Dataset\n",
        "# -------------\n",
        "\n",
        "# Set train shuffle seed (for reproducibility)\n",
        "manual_seed(42)\n",
        "\n",
        "batch_size = 1\n",
        "n_samples = 100  # We will concentrate on the first 100 samples\n",
        "\n",
        "# Use pre-defined torchvision function to load MNIST train data\n",
        "X_train = datasets.MNIST(\n",
        "    root=\"./data\", train=True, download=True, transform=transforms.Compose([transforms.ToTensor()])\n",
        ")\n",
        "\n",
        "# Filter out labels (originally 0-9), leaving only labels 0 and 1\n",
        "idx = np.append(\n",
        "    np.where(X_train.targets == 0)[0][:n_samples], np.where(X_train.targets == 1)[0][:n_samples]\n",
        ")\n",
        "X_train.data = X_train.data[idx]\n",
        "X_train.targets = X_train.targets[idx]\n",
        "\n",
        "# Define torch dataloader with filtered data\n",
        "train_loader = DataLoader(X_train, batch_size=batch_size, shuffle=True)"
      ]
    },
    {
      "cell_type": "markdown",
      "source": [
        "簡単な可視化を実行すると、学習のデータセットは手書きの0と1の画像で構成されていることがわかります。"
      ],
      "metadata": {
        "id": "5AORdPlAXpif"
      },
      "id": "5AORdPlAXpif"
    },
    {
      "cell_type": "markdown",
      "source": [
        "#データセット変更\n"
      ],
      "metadata": {
        "id": "m7baTLgClvAe"
      },
      "id": "m7baTLgClvAe"
    },
    {
      "cell_type": "code",
      "source": [
        "ls"
      ],
      "metadata": {
        "id": "2i3pftm1qmDa",
        "colab": {
          "base_uri": "https://localhost:8080/"
        },
        "outputId": "86c12577-6429-4d32-865a-c78a1e083c2b"
      },
      "id": "2i3pftm1qmDa",
      "execution_count": null,
      "outputs": [
        {
          "output_type": "stream",
          "name": "stdout",
          "text": [
            "data.zip  \u001b[0m\u001b[01;34msample_data\u001b[0m/\n"
          ]
        }
      ]
    },
    {
      "cell_type": "code",
      "source": [
        "!unzip data.zip"
      ],
      "metadata": {
        "colab": {
          "base_uri": "https://localhost:8080/"
        },
        "id": "Kn5IYB7amBex",
        "outputId": "31363ac4-fa68-455e-921b-9c03b6e06d7b"
      },
      "id": "Kn5IYB7amBex",
      "execution_count": null,
      "outputs": [
        {
          "output_type": "stream",
          "name": "stdout",
          "text": [
            "Archive:  data.zip\n",
            "   creating: data/\n",
            "  inflating: data/.DS_Store          \n",
            "  inflating: __MACOSX/data/._.DS_Store  \n",
            "   creating: data/0/\n",
            "   creating: data/1/\n",
            "  inflating: data/0/img019.png       \n",
            "  inflating: __MACOSX/data/0/._img019.png  \n",
            "  inflating: data/0/img018.png       \n",
            "  inflating: __MACOSX/data/0/._img018.png  \n",
            "  inflating: data/0/img020.png       \n",
            "  inflating: __MACOSX/data/0/._img020.png  \n",
            "  inflating: data/0/img008.png       \n",
            "  inflating: __MACOSX/data/0/._img008.png  \n",
            "  inflating: data/0/img009.png       \n",
            "  inflating: __MACOSX/data/0/._img009.png  \n",
            "  inflating: data/0/img013.png       \n",
            "  inflating: __MACOSX/data/0/._img013.png  \n",
            "  inflating: data/0/img007.png       \n",
            "  inflating: __MACOSX/data/0/._img007.png  \n",
            "  inflating: data/0/img006.png       \n",
            "  inflating: __MACOSX/data/0/._img006.png  \n",
            "  inflating: data/0/img012.png       \n",
            "  inflating: __MACOSX/data/0/._img012.png  \n",
            "  inflating: data/0/img004.png       \n",
            "  inflating: __MACOSX/data/0/._img004.png  \n",
            "  inflating: data/0/img010.png       \n",
            "  inflating: __MACOSX/data/0/._img010.png  \n",
            "  inflating: data/0/img011.png       \n",
            "  inflating: __MACOSX/data/0/._img011.png  \n",
            "  inflating: data/0/img005.png       \n",
            "  inflating: __MACOSX/data/0/._img005.png  \n",
            "  inflating: data/0/img001.png       \n",
            "  inflating: __MACOSX/data/0/._img001.png  \n",
            "  inflating: data/0/img015.png       \n",
            "  inflating: __MACOSX/data/0/._img015.png  \n",
            "  inflating: data/0/img014.png       \n",
            "  inflating: __MACOSX/data/0/._img014.png  \n",
            "  inflating: data/0/img016.png       \n",
            "  inflating: __MACOSX/data/0/._img016.png  \n",
            "  inflating: data/0/img002.png       \n",
            "  inflating: __MACOSX/data/0/._img002.png  \n",
            "  inflating: data/0/img003.png       \n",
            "  inflating: __MACOSX/data/0/._img003.png  \n",
            "  inflating: data/0/img017.png       \n",
            "  inflating: __MACOSX/data/0/._img017.png  \n",
            "  inflating: data/1/img019.png       \n",
            "  inflating: __MACOSX/data/1/._img019.png  \n",
            "  inflating: data/1/img018.png       \n",
            "  inflating: __MACOSX/data/1/._img018.png  \n",
            "  inflating: data/1/img020.png       \n",
            "  inflating: __MACOSX/data/1/._img020.png  \n",
            "  inflating: data/1/img008.png       \n",
            "  inflating: __MACOSX/data/1/._img008.png  \n",
            "  inflating: data/1/img009.png       \n",
            "  inflating: __MACOSX/data/1/._img009.png  \n",
            "  inflating: data/1/img013.png       \n",
            "  inflating: __MACOSX/data/1/._img013.png  \n",
            "  inflating: data/1/img007.png       \n",
            "  inflating: __MACOSX/data/1/._img007.png  \n",
            "  inflating: data/1/img006.png       \n",
            "  inflating: __MACOSX/data/1/._img006.png  \n",
            "  inflating: data/1/img012.png       \n",
            "  inflating: __MACOSX/data/1/._img012.png  \n",
            "  inflating: data/1/img004.png       \n",
            "  inflating: __MACOSX/data/1/._img004.png  \n",
            "  inflating: data/1/img010.png       \n",
            "  inflating: __MACOSX/data/1/._img010.png  \n",
            "  inflating: data/1/img011.png       \n",
            "  inflating: __MACOSX/data/1/._img011.png  \n",
            "  inflating: data/1/img005.png       \n",
            "  inflating: __MACOSX/data/1/._img005.png  \n",
            "  inflating: data/1/img001.png       \n",
            "  inflating: __MACOSX/data/1/._img001.png  \n",
            "  inflating: data/1/img015.png       \n",
            "  inflating: __MACOSX/data/1/._img015.png  \n",
            "  inflating: data/1/img014.png       \n",
            "  inflating: __MACOSX/data/1/._img014.png  \n",
            "  inflating: data/1/img016.png       \n",
            "  inflating: __MACOSX/data/1/._img016.png  \n",
            "  inflating: data/1/img002.png       \n",
            "  inflating: __MACOSX/data/1/._img002.png  \n",
            "  inflating: data/1/img003.png       \n",
            "  inflating: __MACOSX/data/1/._img003.png  \n",
            "  inflating: data/1/img017.png       \n",
            "  inflating: __MACOSX/data/1/._img017.png  \n"
          ]
        }
      ]
    },
    {
      "cell_type": "code",
      "source": [
        "import torch\n",
        "from torch.utils.data import Dataset\n",
        "\n",
        "import os\n",
        "import random\n",
        "from PIL import Image\n",
        "\n",
        "import numpy as np\n",
        "\n",
        "import torchvision"
      ],
      "metadata": {
        "id": "OJazNw31l7x0"
      },
      "id": "OJazNw31l7x0",
      "execution_count": null,
      "outputs": []
    },
    {
      "cell_type": "code",
      "source": [
        "class MyDatasets(Dataset):\n",
        "    def __init__(self, directory = None, transform = None):\n",
        "        \n",
        "        self.directory = directory\n",
        "        self.transform = transform\n",
        "        self.label, self.label_to_index = self.findClasses()\n",
        "        self.img_path_and_label = self.createImgPathAndLabel()\n",
        "\n",
        "    def __len__(self):\n",
        "        return len(self.img_path_and_label)\n",
        "\n",
        "    def __getitem__(self, index):\n",
        "        img_path, label = self.img_path_and_label[index]\n",
        "        \n",
        "        img = Image.open(img_path)\n",
        "\n",
        "        img = img.resize((28,28)) # リサイズ\n",
        "\n",
        "        if self.transform:\n",
        "            img = self.transform(img)\n",
        "\n",
        "        #print(np.shape(img))\n",
        "        #print(np.array(img).astype(np.float32))\n",
        "\n",
        "        #img = img.resize((96,96)) # リサイズ\n",
        "        #img = np.array(img).astype(np.float32).transpose(1, 0) # Dataloader で使うために転置する\n",
        "        #img = np.array(img).astype(np.float32)\n",
        "        #print(img)\n",
        "        #img = np.array(img).astype(np.float32).transpose(1,2, 0, 1) # Dataloader で使うために転置する\n",
        "        #print(img)\n",
        "        #print(label)\n",
        "        \n",
        "        #return img, label\n",
        "        #tensor化\n",
        "        #trans1 = torchvision.transforms.ToTensor()\n",
        "        #label = trans1(label)\n",
        "\n",
        "        #return img, label\n",
        "        return img, torch.tensor(np.array([int(label)]))\n",
        "\n",
        "    def findClasses(self):\n",
        "        classes = [d.name for d in os.scandir(self.directory)]\n",
        "        #classes.remove('.ipynb_checkpoints')\n",
        "        classes.remove('.DS_Store')\n",
        "        classes.sort()\n",
        "        class_to_index = {class_name: i for i, class_name in enumerate(classes)} # {'0': 0, '1': 1, '2': 2, '3': 3, '4': 4, '5': 5, '6': 6, '7': 7, '8': 8, '9': 9}\n",
        "        #print(classes, class_to_index)\n",
        "        return classes, class_to_index\n",
        "\n",
        "    def createImgPathAndLabel(self):\n",
        "        if self.directory:\n",
        "            img_path_and_labels = []\n",
        "            directory = os.path.expanduser(self.directory)\n",
        "            for target_label in sorted(self.label_to_index):\n",
        "                label_index = self.label_to_index[target_label]\n",
        "                target_dir = os.path.join(directory, target_label)\n",
        "\n",
        "                for root, _, file_names in sorted(os.walk(target_dir, followlinks = True)):\n",
        "                    for file_name in file_names:\n",
        "                        img_path = os.path.join(root, file_name)\n",
        "                        img_path_and_label = img_path, target_label\n",
        "                        img_path_and_labels.append(img_path_and_label)\n",
        "            \n",
        "            random.shuffle(img_path_and_labels)\n",
        "\n",
        "        return img_path_and_labels"
      ],
      "metadata": {
        "id": "piiIAuHJluQe"
      },
      "id": "piiIAuHJluQe",
      "execution_count": null,
      "outputs": []
    },
    {
      "cell_type": "code",
      "source": [
        "directory = './data' #r'data'\n",
        "trans = torchvision.transforms.Compose([torchvision.transforms.Grayscale(), torchvision.transforms.ToTensor()])\n",
        "datasets = MyDatasets(directory, trans)\n",
        "print(datasets)\n",
        "print(len(datasets))\n",
        "#print(datasets[2][0])"
      ],
      "metadata": {
        "colab": {
          "base_uri": "https://localhost:8080/"
        },
        "id": "hjIWJwZ6mnp0",
        "outputId": "2727c1ec-29c0-4b37-c535-7f8fdc79dfa6"
      },
      "id": "hjIWJwZ6mnp0",
      "execution_count": null,
      "outputs": [
        {
          "output_type": "stream",
          "name": "stdout",
          "text": [
            "<__main__.MyDatasets object at 0x7fbdaad46650>\n",
            "40\n"
          ]
        }
      ]
    },
    {
      "cell_type": "code",
      "source": [
        "import matplotlib.pyplot as plt\n",
        "#print(datasets.size())\n",
        "img = datasets[0][0]\n",
        "plt.imshow(img)\n",
        "plt.show()"
      ],
      "metadata": {
        "colab": {
          "base_uri": "https://localhost:8080/",
          "height": 619
        },
        "id": "qUYoUJrr2NaB",
        "outputId": "1a9f5ac9-8545-4396-f172-6b076383b4d2"
      },
      "id": "qUYoUJrr2NaB",
      "execution_count": null,
      "outputs": [
        {
          "output_type": "error",
          "ename": "TypeError",
          "evalue": "ignored",
          "traceback": [
            "\u001b[0;31m---------------------------------------------------------------------------\u001b[0m",
            "\u001b[0;31mTypeError\u001b[0m                                 Traceback (most recent call last)",
            "\u001b[0;32m<ipython-input-12-25b103f85cc1>\u001b[0m in \u001b[0;36m<module>\u001b[0;34m\u001b[0m\n\u001b[1;32m      2\u001b[0m \u001b[0;31m#print(datasets.size())\u001b[0m\u001b[0;34m\u001b[0m\u001b[0;34m\u001b[0m\u001b[0;34m\u001b[0m\u001b[0m\n\u001b[1;32m      3\u001b[0m \u001b[0mimg\u001b[0m \u001b[0;34m=\u001b[0m \u001b[0mdatasets\u001b[0m\u001b[0;34m[\u001b[0m\u001b[0;36m0\u001b[0m\u001b[0;34m]\u001b[0m\u001b[0;34m[\u001b[0m\u001b[0;36m0\u001b[0m\u001b[0;34m]\u001b[0m\u001b[0;34m\u001b[0m\u001b[0;34m\u001b[0m\u001b[0m\n\u001b[0;32m----> 4\u001b[0;31m \u001b[0mplt\u001b[0m\u001b[0;34m.\u001b[0m\u001b[0mimshow\u001b[0m\u001b[0;34m(\u001b[0m\u001b[0mimg\u001b[0m\u001b[0;34m)\u001b[0m\u001b[0;34m\u001b[0m\u001b[0;34m\u001b[0m\u001b[0m\n\u001b[0m\u001b[1;32m      5\u001b[0m \u001b[0mplt\u001b[0m\u001b[0;34m.\u001b[0m\u001b[0mshow\u001b[0m\u001b[0;34m(\u001b[0m\u001b[0;34m)\u001b[0m\u001b[0;34m\u001b[0m\u001b[0;34m\u001b[0m\u001b[0m\n",
            "\u001b[0;32m/usr/local/lib/python3.7/dist-packages/matplotlib/pyplot.py\u001b[0m in \u001b[0;36mimshow\u001b[0;34m(X, cmap, norm, aspect, interpolation, alpha, vmin, vmax, origin, extent, shape, filternorm, filterrad, imlim, resample, url, data, **kwargs)\u001b[0m\n\u001b[1;32m   2649\u001b[0m         \u001b[0mfilternorm\u001b[0m\u001b[0;34m=\u001b[0m\u001b[0mfilternorm\u001b[0m\u001b[0;34m,\u001b[0m \u001b[0mfilterrad\u001b[0m\u001b[0;34m=\u001b[0m\u001b[0mfilterrad\u001b[0m\u001b[0;34m,\u001b[0m \u001b[0mimlim\u001b[0m\u001b[0;34m=\u001b[0m\u001b[0mimlim\u001b[0m\u001b[0;34m,\u001b[0m\u001b[0;34m\u001b[0m\u001b[0;34m\u001b[0m\u001b[0m\n\u001b[1;32m   2650\u001b[0m         resample=resample, url=url, **({\"data\": data} if data is not\n\u001b[0;32m-> 2651\u001b[0;31m         None else {}), **kwargs)\n\u001b[0m\u001b[1;32m   2652\u001b[0m     \u001b[0msci\u001b[0m\u001b[0;34m(\u001b[0m\u001b[0m__ret\u001b[0m\u001b[0;34m)\u001b[0m\u001b[0;34m\u001b[0m\u001b[0;34m\u001b[0m\u001b[0m\n\u001b[1;32m   2653\u001b[0m     \u001b[0;32mreturn\u001b[0m \u001b[0m__ret\u001b[0m\u001b[0;34m\u001b[0m\u001b[0;34m\u001b[0m\u001b[0m\n",
            "\u001b[0;32m/usr/local/lib/python3.7/dist-packages/matplotlib/__init__.py\u001b[0m in \u001b[0;36minner\u001b[0;34m(ax, data, *args, **kwargs)\u001b[0m\n\u001b[1;32m   1563\u001b[0m     \u001b[0;32mdef\u001b[0m \u001b[0minner\u001b[0m\u001b[0;34m(\u001b[0m\u001b[0max\u001b[0m\u001b[0;34m,\u001b[0m \u001b[0;34m*\u001b[0m\u001b[0margs\u001b[0m\u001b[0;34m,\u001b[0m \u001b[0mdata\u001b[0m\u001b[0;34m=\u001b[0m\u001b[0;32mNone\u001b[0m\u001b[0;34m,\u001b[0m \u001b[0;34m**\u001b[0m\u001b[0mkwargs\u001b[0m\u001b[0;34m)\u001b[0m\u001b[0;34m:\u001b[0m\u001b[0;34m\u001b[0m\u001b[0;34m\u001b[0m\u001b[0m\n\u001b[1;32m   1564\u001b[0m         \u001b[0;32mif\u001b[0m \u001b[0mdata\u001b[0m \u001b[0;32mis\u001b[0m \u001b[0;32mNone\u001b[0m\u001b[0;34m:\u001b[0m\u001b[0;34m\u001b[0m\u001b[0;34m\u001b[0m\u001b[0m\n\u001b[0;32m-> 1565\u001b[0;31m             \u001b[0;32mreturn\u001b[0m \u001b[0mfunc\u001b[0m\u001b[0;34m(\u001b[0m\u001b[0max\u001b[0m\u001b[0;34m,\u001b[0m \u001b[0;34m*\u001b[0m\u001b[0mmap\u001b[0m\u001b[0;34m(\u001b[0m\u001b[0msanitize_sequence\u001b[0m\u001b[0;34m,\u001b[0m \u001b[0margs\u001b[0m\u001b[0;34m)\u001b[0m\u001b[0;34m,\u001b[0m \u001b[0;34m**\u001b[0m\u001b[0mkwargs\u001b[0m\u001b[0;34m)\u001b[0m\u001b[0;34m\u001b[0m\u001b[0;34m\u001b[0m\u001b[0m\n\u001b[0m\u001b[1;32m   1566\u001b[0m \u001b[0;34m\u001b[0m\u001b[0m\n\u001b[1;32m   1567\u001b[0m         \u001b[0mbound\u001b[0m \u001b[0;34m=\u001b[0m \u001b[0mnew_sig\u001b[0m\u001b[0;34m.\u001b[0m\u001b[0mbind\u001b[0m\u001b[0;34m(\u001b[0m\u001b[0max\u001b[0m\u001b[0;34m,\u001b[0m \u001b[0;34m*\u001b[0m\u001b[0margs\u001b[0m\u001b[0;34m,\u001b[0m \u001b[0;34m**\u001b[0m\u001b[0mkwargs\u001b[0m\u001b[0;34m)\u001b[0m\u001b[0;34m\u001b[0m\u001b[0;34m\u001b[0m\u001b[0m\n",
            "\u001b[0;32m/usr/local/lib/python3.7/dist-packages/matplotlib/cbook/deprecation.py\u001b[0m in \u001b[0;36mwrapper\u001b[0;34m(*args, **kwargs)\u001b[0m\n\u001b[1;32m    356\u001b[0m                 \u001b[0;34mf\"%(removal)s.  If any parameter follows {name!r}, they \"\u001b[0m\u001b[0;34m\u001b[0m\u001b[0;34m\u001b[0m\u001b[0m\n\u001b[1;32m    357\u001b[0m                 f\"should be pass as keyword, not positionally.\")\n\u001b[0;32m--> 358\u001b[0;31m         \u001b[0;32mreturn\u001b[0m \u001b[0mfunc\u001b[0m\u001b[0;34m(\u001b[0m\u001b[0;34m*\u001b[0m\u001b[0margs\u001b[0m\u001b[0;34m,\u001b[0m \u001b[0;34m**\u001b[0m\u001b[0mkwargs\u001b[0m\u001b[0;34m)\u001b[0m\u001b[0;34m\u001b[0m\u001b[0;34m\u001b[0m\u001b[0m\n\u001b[0m\u001b[1;32m    359\u001b[0m \u001b[0;34m\u001b[0m\u001b[0m\n\u001b[1;32m    360\u001b[0m     \u001b[0;32mreturn\u001b[0m \u001b[0mwrapper\u001b[0m\u001b[0;34m\u001b[0m\u001b[0;34m\u001b[0m\u001b[0m\n",
            "\u001b[0;32m/usr/local/lib/python3.7/dist-packages/matplotlib/cbook/deprecation.py\u001b[0m in \u001b[0;36mwrapper\u001b[0;34m(*args, **kwargs)\u001b[0m\n\u001b[1;32m    356\u001b[0m                 \u001b[0;34mf\"%(removal)s.  If any parameter follows {name!r}, they \"\u001b[0m\u001b[0;34m\u001b[0m\u001b[0;34m\u001b[0m\u001b[0m\n\u001b[1;32m    357\u001b[0m                 f\"should be pass as keyword, not positionally.\")\n\u001b[0;32m--> 358\u001b[0;31m         \u001b[0;32mreturn\u001b[0m \u001b[0mfunc\u001b[0m\u001b[0;34m(\u001b[0m\u001b[0;34m*\u001b[0m\u001b[0margs\u001b[0m\u001b[0;34m,\u001b[0m \u001b[0;34m**\u001b[0m\u001b[0mkwargs\u001b[0m\u001b[0;34m)\u001b[0m\u001b[0;34m\u001b[0m\u001b[0;34m\u001b[0m\u001b[0m\n\u001b[0m\u001b[1;32m    359\u001b[0m \u001b[0;34m\u001b[0m\u001b[0m\n\u001b[1;32m    360\u001b[0m     \u001b[0;32mreturn\u001b[0m \u001b[0mwrapper\u001b[0m\u001b[0;34m\u001b[0m\u001b[0;34m\u001b[0m\u001b[0m\n",
            "\u001b[0;32m/usr/local/lib/python3.7/dist-packages/matplotlib/axes/_axes.py\u001b[0m in \u001b[0;36mimshow\u001b[0;34m(self, X, cmap, norm, aspect, interpolation, alpha, vmin, vmax, origin, extent, shape, filternorm, filterrad, imlim, resample, url, **kwargs)\u001b[0m\n\u001b[1;32m   5624\u001b[0m                               resample=resample, **kwargs)\n\u001b[1;32m   5625\u001b[0m \u001b[0;34m\u001b[0m\u001b[0m\n\u001b[0;32m-> 5626\u001b[0;31m         \u001b[0mim\u001b[0m\u001b[0;34m.\u001b[0m\u001b[0mset_data\u001b[0m\u001b[0;34m(\u001b[0m\u001b[0mX\u001b[0m\u001b[0;34m)\u001b[0m\u001b[0;34m\u001b[0m\u001b[0;34m\u001b[0m\u001b[0m\n\u001b[0m\u001b[1;32m   5627\u001b[0m         \u001b[0mim\u001b[0m\u001b[0;34m.\u001b[0m\u001b[0mset_alpha\u001b[0m\u001b[0;34m(\u001b[0m\u001b[0malpha\u001b[0m\u001b[0;34m)\u001b[0m\u001b[0;34m\u001b[0m\u001b[0;34m\u001b[0m\u001b[0m\n\u001b[1;32m   5628\u001b[0m         \u001b[0;32mif\u001b[0m \u001b[0mim\u001b[0m\u001b[0;34m.\u001b[0m\u001b[0mget_clip_path\u001b[0m\u001b[0;34m(\u001b[0m\u001b[0;34m)\u001b[0m \u001b[0;32mis\u001b[0m \u001b[0;32mNone\u001b[0m\u001b[0;34m:\u001b[0m\u001b[0;34m\u001b[0m\u001b[0;34m\u001b[0m\u001b[0m\n",
            "\u001b[0;32m/usr/local/lib/python3.7/dist-packages/matplotlib/image.py\u001b[0m in \u001b[0;36mset_data\u001b[0;34m(self, A)\u001b[0m\n\u001b[1;32m    697\u001b[0m                 or self._A.ndim == 3 and self._A.shape[-1] in [3, 4]):\n\u001b[1;32m    698\u001b[0m             raise TypeError(\"Invalid shape {} for image data\"\n\u001b[0;32m--> 699\u001b[0;31m                             .format(self._A.shape))\n\u001b[0m\u001b[1;32m    700\u001b[0m \u001b[0;34m\u001b[0m\u001b[0m\n\u001b[1;32m    701\u001b[0m         \u001b[0;32mif\u001b[0m \u001b[0mself\u001b[0m\u001b[0;34m.\u001b[0m\u001b[0m_A\u001b[0m\u001b[0;34m.\u001b[0m\u001b[0mndim\u001b[0m \u001b[0;34m==\u001b[0m \u001b[0;36m3\u001b[0m\u001b[0;34m:\u001b[0m\u001b[0;34m\u001b[0m\u001b[0;34m\u001b[0m\u001b[0m\n",
            "\u001b[0;31mTypeError\u001b[0m: Invalid shape (1, 48, 48) for image data"
          ]
        },
        {
          "output_type": "display_data",
          "data": {
            "text/plain": [
              "<Figure size 432x288 with 1 Axes>"
            ],
            "image/png": "[encoded data removed]"
          },
          "metadata": {
            "needs_background": "light"
          }
        }
      ]
    },
    {
      "cell_type": "code",
      "source": [
        "import matplotlib.pyplot as pltz\n",
        "\n",
        "image, label = datasets[0]\n",
        "print(image.shape)\n",
        "print(label,  len(datasets))\n",
        "\n",
        "#plt.imshow(image.transpose(2, 1, 0).astype(np.uint8))\n",
        "plt.imshow(image.transpose(1, 0).astype(np.uint8))"
      ],
      "metadata": {
        "colab": {
          "base_uri": "https://localhost:8080/",
          "height": 319
        },
        "id": "TvAMwHOJmX_2",
        "outputId": "cc0b31ff-295a-4347-92a5-0d4660eaa08f"
      },
      "id": "TvAMwHOJmX_2",
      "execution_count": null,
      "outputs": [
        {
          "output_type": "stream",
          "name": "stdout",
          "text": [
            "(48, 48)\n",
            "0 40\n"
          ]
        },
        {
          "output_type": "execute_result",
          "data": {
            "text/plain": [
              "<matplotlib.image.AxesImage at 0x7f1fc6039bd0>"
            ]
          },
          "metadata": {},
          "execution_count": 130
        },
        {
          "output_type": "display_data",
          "data": {
            "text/plain": [
              "<Figure size 432x288 with 1 Axes>"
            ],
            "image/png": "[encoded data removed]"
          },
          "metadata": {
            "needs_background": "light"
          }
        }
      ]
    },
    {
      "cell_type": "code",
      "source": [
        "print(int(len(datasets)))\n",
        "\n",
        "n_samples = len(datasets) # n_samples is 60000\n",
        "train_size = int(len(datasets) * 0.8) # train_size is 48000\n",
        "val_size = n_samples - train_size # val_size is 48000\n",
        "\n",
        "train_dataset, valid_dataset = torch.utils.data.random_split(\n",
        "    datasets, \n",
        "    [train_size, val_size]\n",
        ")\n",
        "\n",
        "print(train_dataset)\n",
        "print(valid_dataset)"
      ],
      "metadata": {
        "colab": {
          "base_uri": "https://localhost:8080/"
        },
        "id": "TcGOZDq5nMr4",
        "outputId": "f7e94b2e-a8f8-423a-f843-710d38b14748"
      },
      "id": "TcGOZDq5nMr4",
      "execution_count": null,
      "outputs": [
        {
          "output_type": "stream",
          "name": "stdout",
          "text": [
            "40\n",
            "<torch.utils.data.dataset.Subset object at 0x7fbda0143b10>\n",
            "<torch.utils.data.dataset.Subset object at 0x7fbdab850f10>\n"
          ]
        }
      ]
    },
    {
      "cell_type": "code",
      "source": [
        "from torch.utils.data import DataLoader\n",
        "BATCH_SIZE = 1\n",
        "# 学習用Dataloader\n",
        "#train_dataloader = DataLoader(\n",
        "train_loader = DataLoader(\n",
        "    train_dataset, \n",
        "    batch_size=BATCH_SIZE, \n",
        "    shuffle=True,\n",
        "    num_workers=2, \n",
        "    drop_last=True,\n",
        "    pin_memory=True\n",
        ")\n",
        "\n",
        "# 評価用Dataloader\n",
        "#valid_dataloader = DataLoader(\n",
        "valid_loader = DataLoader(\n",
        "    train_dataset, \n",
        "    batch_size=BATCH_SIZE, \n",
        "    shuffle=True,\n",
        "    num_workers=2, \n",
        "    drop_last=True,\n",
        "    pin_memory=True\n",
        ")"
      ],
      "metadata": {
        "id": "o22ri7EgnQ8l"
      },
      "id": "o22ri7EgnQ8l",
      "execution_count": null,
      "outputs": []
    },
    {
      "cell_type": "code",
      "execution_count": null,
      "id": "a202fc7d-09c0-42ef-80e3-e9a74f61812d",
      "metadata": {
        "colab": {
          "base_uri": "https://localhost:8080/",
          "height": 130
        },
        "id": "a202fc7d-09c0-42ef-80e3-e9a74f61812d",
        "outputId": "d2c40020-456a-4fc2-bf9f-10521a7ea3a6"
      },
      "outputs": [
        {
          "output_type": "display_data",
          "data": {
            "text/plain": [
              "<Figure size 720x216 with 6 Axes>"
            ],
            "image/png": "[encoded data removed]"
          },
          "metadata": {}
        }
      ],
      "source": [
        "n_samples_show = 6\n",
        "\n",
        "data_iter = iter(train_loader)\n",
        "fig, axes = plt.subplots(nrows=1, ncols=n_samples_show, figsize=(10, 3))\n",
        "\n",
        "while n_samples_show > 0:\n",
        "    images, targets = data_iter.__next__()\n",
        "\n",
        "    axes[n_samples_show - 1].imshow(images[0, 0].numpy().squeeze(), cmap=\"gray\")\n",
        "    #axes[n_samples_show - 1].imshow(images[0, 0], cmap=\"gray\")\n",
        "    axes[n_samples_show - 1].set_xticks([])\n",
        "    axes[n_samples_show - 1].set_yticks([])\n",
        "    axes[n_samples_show - 1].set_title(\"Labeled: {}\".format(targets[0].item()))\n",
        "    #axes[n_samples_show - 1].set_title(\"Labeled: {}\".format(targets[0]))\n",
        "\n",
        "    n_samples_show -= 1"
      ]
    },
    {
      "cell_type": "code",
      "execution_count": null,
      "id": "d6f69f8d-105f-4bca-bf6e-a6209cc9a2a3",
      "metadata": {
        "id": "d6f69f8d-105f-4bca-bf6e-a6209cc9a2a3"
      },
      "outputs": [],
      "source": [
        "# Test Dataset\n",
        "# -------------\n",
        "\n",
        "# Set test shuffle seed (for reproducibility)\n",
        "# manual_seed(5)\n",
        "\n",
        "n_samples = 50\n",
        "\n",
        "# Use pre-defined torchvision function to load MNIST test data\n",
        "X_test = datasets.MNIST(\n",
        "    root=\"./data\", train=False, download=True, transform=transforms.Compose([transforms.ToTensor()])\n",
        ")\n",
        "\n",
        "# Filter out labels (originally 0-9), leaving only labels 0 and 1\n",
        "idx = np.append(\n",
        "    np.where(X_test.targets == 0)[0][:n_samples], np.where(X_test.targets == 1)[0][:n_samples]\n",
        ")\n",
        "X_test.data = X_test.data[idx]\n",
        "X_test.targets = X_test.targets[idx]\n",
        "\n",
        "# Define torch dataloader with filtered data\n",
        "#test_loader = DataLoader(X_test, batch_size=batch_size, shuffle=True)"
      ]
    },
    {
      "cell_type": "markdown",
      "source": [
        "##ステップ 2: QNNとハイブリッド・モデルの定義¶\n",
        "\n",
        "この2番目のステップは、 TorchConnector の実力を示します。 量子ニューラルネットワーク層を定義した後 (この場合は TwoLayerQNN) 、torchコネクターを TorchConnector(qnn) として初期化することで、torch Module のレイヤーに埋め込むことができます。\n",
        "\n",
        "⚠️ 注意: ハイブリッド・モデルで、適切な勾配バックプロパゲーションを行うためには、QNNの初期化中に、初期パラメーター input_gradients を TRUE に設定する必要があります。"
      ],
      "metadata": {
        "id": "KrQZ6d4PYJ9A"
      },
      "id": "KrQZ6d4PYJ9A"
    },
    {
      "cell_type": "code",
      "source": [
        "# Define and create QNN\n",
        "def create_qnn():\n",
        "    feature_map = ZZFeatureMap(2)\n",
        "    ansatz = RealAmplitudes(2, reps=1)\n",
        "    # REMEMBER TO SET input_gradients=True FOR ENABLING HYBRID GRADIENT BACKPROP\n",
        "    qnn = TwoLayerQNN(\n",
        "        2,\n",
        "        feature_map,\n",
        "        ansatz,\n",
        "        input_gradients=True,\n",
        "        exp_val=AerPauliExpectation(),\n",
        "        quantum_instance=qi,\n",
        "    )\n",
        "    return qnn\n",
        "\n",
        "\n",
        "qnn4 = create_qnn()\n",
        "print(qnn4.operator)"
      ],
      "metadata": {
        "colab": {
          "base_uri": "https://localhost:8080/"
        },
        "id": "Sdr5VOxPX0P9",
        "outputId": "5f8c83b9-b524-4fd0-ceef-6707b4c7dcbb"
      },
      "id": "Sdr5VOxPX0P9",
      "execution_count": null,
      "outputs": [
        {
          "output_type": "stream",
          "name": "stdout",
          "text": [
            "ComposedOp([\n",
            "  OperatorMeasurement(1.0 * ZZ),\n",
            "  CircuitStateFn(\n",
            "       ┌──────────────────────────┐┌──────────────────────────────────────┐\n",
            "  q_0: ┤0                         ├┤0                                     ├\n",
            "       │  ZZFeatureMap(x[0],x[1]) ││  RealAmplitudes(θ[0],θ[1],θ[2],θ[3]) │\n",
            "  q_1: ┤1                         ├┤1                                     ├\n",
            "       └──────────────────────────┘└──────────────────────────────────────┘\n",
            "  )\n",
            "])\n"
          ]
        }
      ]
    },
    {
      "cell_type": "code",
      "source": [
        "# Define torch NN module\n",
        "\n",
        "\n",
        "class Net(Module):\n",
        "    def __init__(self, qnn):\n",
        "        super().__init__()\n",
        "        self.conv1 = Conv2d(1, 2, kernel_size=5)\n",
        "        self.conv2 = Conv2d(2, 16, kernel_size=5)\n",
        "        self.dropout = Dropout2d()\n",
        "        self.fc1 = Linear(256, 64)\n",
        "        self.fc2 = Linear(64, 2)  # 2-dimensional input to QNN\n",
        "        self.qnn = TorchConnector(qnn)  # Apply torch connector, weights chosen\n",
        "        # uniformly at random from interval [-1,1].\n",
        "        self.fc3 = Linear(1, 1)  # 1-dimensional output from QNN\n",
        "\n",
        "    def forward(self, x):\n",
        "        x = F.relu(self.conv1(x))\n",
        "        x = F.max_pool2d(x, 2)\n",
        "        x = F.relu(self.conv2(x))\n",
        "        x = F.max_pool2d(x, 2)\n",
        "        x = self.dropout(x)\n",
        "        x = x.view(x.shape[0], -1)\n",
        "        x = F.relu(self.fc1(x))\n",
        "        x = self.fc2(x)\n",
        "        x = self.qnn(x)  # apply QNN\n",
        "        x = self.fc3(x)\n",
        "        return cat((x, 1 - x), -1)\n",
        "\n",
        "\n",
        "model4 = Net(qnn4)"
      ],
      "metadata": {
        "id": "u_bjtb6KYOAc"
      },
      "id": "u_bjtb6KYOAc",
      "execution_count": null,
      "outputs": []
    },
    {
      "cell_type": "markdown",
      "source": [
        "##ステップ 3: 学習"
      ],
      "metadata": {
        "id": "cFikyUvkYTJg"
      },
      "id": "cFikyUvkYTJg"
    },
    {
      "cell_type": "code",
      "source": [
        "# Define model, optimizer, and loss function\n",
        "optimizer = optim.Adam(model4.parameters(), lr=0.001)\n",
        "loss_func = NLLLoss()\n",
        "\n",
        "# Start training\n",
        "epochs = 10  # Set number of epochs\n",
        "loss_list = []  # Store loss history\n",
        "model4.train()  # Set model to training mode\n",
        "\n",
        "for epoch in range(epochs):\n",
        "    total_loss = []\n",
        "    for batch_idx, (data, target) in enumerate(train_loader):\n",
        "        optimizer.zero_grad(set_to_none=True)  # Initialize gradient\n",
        "        output = model4(data)  # Forward pass\n",
        "        #print(target[0])\n",
        "        loss = loss_func(output, target[0])  # Calculate loss\n",
        "        #loss = loss_func(output, target)  # Calculate loss\n",
        "        loss.backward()  # Backward pass\n",
        "        optimizer.step()  # Optimize weights\n",
        "        total_loss.append(loss.item())  # Store loss\n",
        "    loss_list.append(sum(total_loss) / len(total_loss))\n",
        "    print(\"Training [{:.0f}%]\\tLoss: {:.4f}\".format(100.0 * (epoch + 1) / epochs, loss_list[-1]))"
      ],
      "metadata": {
        "colab": {
          "base_uri": "https://localhost:8080/"
        },
        "id": "_2L_toKjYR2z",
        "outputId": "72a86d30-49e3-436d-e1b8-cd819bf50119"
      },
      "id": "_2L_toKjYR2z",
      "execution_count": null,
      "outputs": [
        {
          "output_type": "stream",
          "name": "stdout",
          "text": [
            "tensor([1])\n",
            "tensor([1])\n",
            "tensor([0])\n",
            "tensor([0])\n",
            "tensor([0])\n",
            "tensor([0])\n",
            "tensor([1])\n",
            "tensor([0])\n",
            "tensor([0])\n",
            "tensor([1])\n",
            "tensor([0])\n",
            "tensor([0])\n",
            "tensor([1])\n",
            "tensor([0])\n",
            "tensor([1])\n",
            "tensor([1])\n",
            "tensor([1])\n",
            "tensor([1])\n",
            "tensor([1])\n",
            "tensor([0])\n",
            "tensor([0])\n",
            "tensor([1])\n",
            "tensor([1])\n",
            "tensor([1])\n",
            "tensor([1])\n",
            "tensor([0])\n",
            "tensor([0])\n",
            "tensor([1])\n",
            "tensor([0])\n",
            "tensor([0])\n",
            "tensor([0])\n",
            "tensor([0])\n",
            "Training [10%]\tLoss: -0.4485\n",
            "tensor([1])\n",
            "tensor([1])\n",
            "tensor([0])\n",
            "tensor([0])\n",
            "tensor([0])\n",
            "tensor([0])\n",
            "tensor([0])\n",
            "tensor([0])\n",
            "tensor([1])\n",
            "tensor([0])\n",
            "tensor([1])\n",
            "tensor([0])\n",
            "tensor([1])\n",
            "tensor([1])\n",
            "tensor([0])\n",
            "tensor([1])\n",
            "tensor([1])\n",
            "tensor([1])\n",
            "tensor([0])\n",
            "tensor([0])\n",
            "tensor([0])\n",
            "tensor([0])\n",
            "tensor([1])\n",
            "tensor([1])\n",
            "tensor([1])\n",
            "tensor([0])\n",
            "tensor([0])\n",
            "tensor([1])\n",
            "tensor([0])\n",
            "tensor([1])\n",
            "tensor([0])\n",
            "tensor([1])\n",
            "Training [20%]\tLoss: -0.5549\n",
            "tensor([0])\n",
            "tensor([1])\n",
            "tensor([1])\n",
            "tensor([1])\n",
            "tensor([0])\n",
            "tensor([1])\n",
            "tensor([1])\n",
            "tensor([0])\n",
            "tensor([1])\n",
            "tensor([1])\n",
            "tensor([0])\n",
            "tensor([1])\n",
            "tensor([0])\n",
            "tensor([0])\n",
            "tensor([0])\n",
            "tensor([0])\n",
            "tensor([0])\n",
            "tensor([0])\n",
            "tensor([0])\n",
            "tensor([1])\n",
            "tensor([1])\n",
            "tensor([0])\n",
            "tensor([0])\n",
            "tensor([0])\n",
            "tensor([0])\n",
            "tensor([0])\n",
            "tensor([0])\n",
            "tensor([1])\n",
            "tensor([1])\n",
            "tensor([1])\n",
            "tensor([1])\n",
            "tensor([1])\n",
            "Training [30%]\tLoss: -0.5642\n",
            "tensor([0])\n",
            "tensor([1])\n",
            "tensor([1])\n",
            "tensor([0])\n",
            "tensor([1])\n",
            "tensor([0])\n",
            "tensor([0])\n",
            "tensor([0])\n",
            "tensor([1])\n",
            "tensor([1])\n",
            "tensor([0])\n",
            "tensor([1])\n",
            "tensor([1])\n",
            "tensor([0])\n",
            "tensor([0])\n",
            "tensor([1])\n",
            "tensor([0])\n",
            "tensor([0])\n",
            "tensor([1])\n",
            "tensor([0])\n",
            "tensor([0])\n",
            "tensor([0])\n",
            "tensor([0])\n",
            "tensor([1])\n",
            "tensor([1])\n",
            "tensor([1])\n",
            "tensor([0])\n",
            "tensor([1])\n",
            "tensor([0])\n",
            "tensor([0])\n",
            "tensor([1])\n",
            "tensor([1])\n",
            "Training [40%]\tLoss: -0.6721\n",
            "tensor([0])\n",
            "tensor([0])\n",
            "tensor([1])\n",
            "tensor([0])\n",
            "tensor([1])\n",
            "tensor([0])\n",
            "tensor([1])\n",
            "tensor([1])\n",
            "tensor([0])\n",
            "tensor([0])\n",
            "tensor([0])\n",
            "tensor([0])\n",
            "tensor([0])\n",
            "tensor([1])\n",
            "tensor([1])\n",
            "tensor([0])\n",
            "tensor([0])\n",
            "tensor([0])\n",
            "tensor([1])\n",
            "tensor([1])\n",
            "tensor([1])\n",
            "tensor([0])\n",
            "tensor([1])\n",
            "tensor([0])\n",
            "tensor([1])\n",
            "tensor([0])\n",
            "tensor([0])\n",
            "tensor([1])\n",
            "tensor([1])\n",
            "tensor([1])\n",
            "tensor([1])\n",
            "tensor([0])\n",
            "Training [50%]\tLoss: -0.8905\n",
            "tensor([1])\n",
            "tensor([0])\n",
            "tensor([1])\n",
            "tensor([0])\n",
            "tensor([0])\n",
            "tensor([0])\n",
            "tensor([1])\n",
            "tensor([1])\n",
            "tensor([1])\n",
            "tensor([1])\n",
            "tensor([1])\n",
            "tensor([0])\n",
            "tensor([1])\n",
            "tensor([0])\n",
            "tensor([1])\n",
            "tensor([0])\n",
            "tensor([1])\n",
            "tensor([0])\n",
            "tensor([0])\n",
            "tensor([1])\n",
            "tensor([0])\n",
            "tensor([0])\n",
            "tensor([1])\n",
            "tensor([0])\n",
            "tensor([0])\n",
            "tensor([1])\n",
            "tensor([1])\n",
            "tensor([0])\n",
            "tensor([0])\n",
            "tensor([0])\n",
            "tensor([1])\n",
            "tensor([0])\n",
            "Training [60%]\tLoss: -0.9365\n",
            "tensor([1])\n",
            "tensor([1])\n",
            "tensor([0])\n",
            "tensor([1])\n",
            "tensor([0])\n",
            "tensor([1])\n",
            "tensor([0])\n",
            "tensor([0])\n",
            "tensor([0])\n",
            "tensor([0])\n",
            "tensor([0])\n",
            "tensor([1])\n",
            "tensor([1])\n",
            "tensor([1])\n",
            "tensor([0])\n",
            "tensor([1])\n",
            "tensor([1])\n",
            "tensor([0])\n",
            "tensor([1])\n",
            "tensor([0])\n",
            "tensor([0])\n",
            "tensor([0])\n",
            "tensor([1])\n",
            "tensor([1])\n",
            "tensor([0])\n",
            "tensor([0])\n",
            "tensor([1])\n",
            "tensor([0])\n",
            "tensor([0])\n",
            "tensor([1])\n",
            "tensor([1])\n",
            "tensor([0])\n",
            "Training [70%]\tLoss: -0.8918\n",
            "tensor([0])\n",
            "tensor([0])\n",
            "tensor([0])\n",
            "tensor([0])\n",
            "tensor([1])\n",
            "tensor([1])\n",
            "tensor([0])\n",
            "tensor([0])\n",
            "tensor([1])\n",
            "tensor([0])\n",
            "tensor([1])\n",
            "tensor([0])\n",
            "tensor([1])\n",
            "tensor([0])\n",
            "tensor([1])\n",
            "tensor([0])\n",
            "tensor([1])\n",
            "tensor([1])\n",
            "tensor([0])\n",
            "tensor([1])\n",
            "tensor([0])\n",
            "tensor([1])\n",
            "tensor([0])\n",
            "tensor([0])\n",
            "tensor([1])\n",
            "tensor([1])\n",
            "tensor([1])\n",
            "tensor([0])\n",
            "tensor([0])\n",
            "tensor([0])\n",
            "tensor([1])\n",
            "tensor([1])\n",
            "Training [80%]\tLoss: -0.9248\n",
            "tensor([0])\n",
            "tensor([0])\n",
            "tensor([1])\n",
            "tensor([0])\n",
            "tensor([1])\n",
            "tensor([0])\n",
            "tensor([0])\n",
            "tensor([0])\n",
            "tensor([1])\n",
            "tensor([0])\n",
            "tensor([0])\n",
            "tensor([1])\n",
            "tensor([0])\n",
            "tensor([1])\n",
            "tensor([1])\n",
            "tensor([1])\n",
            "tensor([0])\n",
            "tensor([1])\n",
            "tensor([0])\n",
            "tensor([0])\n",
            "tensor([1])\n",
            "tensor([0])\n",
            "tensor([1])\n",
            "tensor([1])\n",
            "tensor([0])\n",
            "tensor([1])\n",
            "tensor([1])\n",
            "tensor([0])\n",
            "tensor([0])\n",
            "tensor([1])\n",
            "tensor([1])\n",
            "tensor([0])\n",
            "Training [90%]\tLoss: -1.0366\n",
            "tensor([0])\n",
            "tensor([1])\n",
            "tensor([1])\n",
            "tensor([0])\n",
            "tensor([0])\n",
            "tensor([0])\n",
            "tensor([1])\n",
            "tensor([0])\n",
            "tensor([1])\n",
            "tensor([1])\n",
            "tensor([1])\n",
            "tensor([0])\n",
            "tensor([0])\n",
            "tensor([0])\n",
            "tensor([0])\n",
            "tensor([1])\n",
            "tensor([0])\n",
            "tensor([1])\n",
            "tensor([1])\n",
            "tensor([0])\n",
            "tensor([0])\n",
            "tensor([1])\n",
            "tensor([1])\n",
            "tensor([1])\n",
            "tensor([1])\n",
            "tensor([0])\n",
            "tensor([0])\n",
            "tensor([0])\n",
            "tensor([1])\n",
            "tensor([0])\n",
            "tensor([0])\n",
            "tensor([1])\n",
            "Training [100%]\tLoss: -1.0899\n"
          ]
        }
      ]
    },
    {
      "cell_type": "code",
      "source": [
        "# Plot loss convergence\n",
        "plt.plot(loss_list)\n",
        "plt.title(\"Hybrid NN Training Convergence\")\n",
        "plt.xlabel(\"Training Iterations\")\n",
        "plt.ylabel(\"Neg. Log Likelihood Loss\")\n",
        "plt.show()"
      ],
      "metadata": {
        "colab": {
          "base_uri": "https://localhost:8080/",
          "height": 295
        },
        "id": "L5eekM8VYX1F",
        "outputId": "8d5ebdaa-4ee1-462f-f286-b77df66ed6ea"
      },
      "id": "L5eekM8VYX1F",
      "execution_count": null,
      "outputs": [
        {
          "output_type": "display_data",
          "data": {
            "text/plain": [
              "<Figure size 432x288 with 1 Axes>"
            ],
            "image/png": "[encoded data removed]"
          },
          "metadata": {
            "needs_background": "light"
          }
        }
      ]
    },
    {
      "cell_type": "markdown",
      "source": [
        "次に、トレーニング済みモデルを保存して、ハイブリッドモデルを保存し、後で推論に再利用する方法を示します。ハイブリッドモデルを保存およびロードにおいて、TorchConnector を使用する場合、モデルの保存およびロードに関する PyTorch の推奨事項に従ってください。"
      ],
      "metadata": {
        "id": "afRo48A6Yf1u"
      },
      "id": "afRo48A6Yf1u"
    },
    {
      "cell_type": "code",
      "source": [
        "torch.save(model4.state_dict(), \"model4.pt\")"
      ],
      "metadata": {
        "id": "8PrnlifRYgP9"
      },
      "id": "8PrnlifRYgP9",
      "execution_count": null,
      "outputs": []
    },
    {
      "cell_type": "markdown",
      "source": [
        "##ステップ 4: 評価¶\n",
        "\n",
        "モデルを再作成し、以前に保存したファイルから状態をロードすることから始めます。別のシミュレーターまたは実際のハードウェアを使用してQNNレイヤーを作成します。したがって、クラウドで利用可能な実際のハードウェアでモデルをトレーニングしてから、推論にシミュレーターまたはその逆を使用できます。簡単にするために、上記と同じ方法で新しい量子ニューラルネットワークを作成します。"
      ],
      "metadata": {
        "id": "ck1tPqi4YlQW"
      },
      "id": "ck1tPqi4YlQW"
    },
    {
      "cell_type": "code",
      "source": [
        "qnn5 = create_qnn()\n",
        "model5 = Net(qnn5)\n",
        "model5.load_state_dict(torch.load(\"model4.pt\"))"
      ],
      "metadata": {
        "colab": {
          "base_uri": "https://localhost:8080/"
        },
        "id": "aeeuU-9aYqY7",
        "outputId": "01a5e51e-7ad6-4a59-fc80-a1578a4e8d26"
      },
      "id": "aeeuU-9aYqY7",
      "execution_count": null,
      "outputs": [
        {
          "output_type": "execute_result",
          "data": {
            "text/plain": [
              "<All keys matched successfully>"
            ]
          },
          "metadata": {},
          "execution_count": 27
        }
      ]
    },
    {
      "cell_type": "code",
      "source": [
        "batch_size = 1\n",
        "\n",
        "model5.eval()  # set model to evaluation mode\n",
        "with no_grad():\n",
        "\n",
        "    correct = 0\n",
        "    #for batch_idx, (data, target) in enumerate(test_loader):  \n",
        "    for batch_idx, (data, target) in enumerate(valid_loader):\n",
        "        output = model5(data)\n",
        "        if len(output.shape) == 1:\n",
        "            output = output.reshape(1, *output.shape)\n",
        "\n",
        "        pred = output.argmax(dim=1, keepdim=True)\n",
        "        correct += pred.eq(target.view_as(pred)).sum().item()\n",
        "\n",
        "        #loss = loss_func(output, target)\n",
        "        loss = loss_func(output, target[0])\n",
        "        total_loss.append(loss.item())\n",
        "\n",
        "    print(\n",
        "        \"Performance on test data:\\n\\tLoss: {:.4f}\\n\\tAccuracy: {:.1f}%\".format(\n",
        "            sum(total_loss) / len(total_loss), correct / len(valid_loader) / batch_size * 100\n",
        "        )\n",
        "    )"
      ],
      "metadata": {
        "colab": {
          "base_uri": "https://localhost:8080/"
        },
        "id": "i9fWkvXdYvAg",
        "outputId": "b73f4ea7-aff3-4773-ec97-b2025b4b4ea6"
      },
      "id": "i9fWkvXdYvAg",
      "execution_count": null,
      "outputs": [
        {
          "output_type": "stream",
          "name": "stdout",
          "text": [
            "Performance on test data:\n",
            "\tLoss: -1.2142\n",
            "\tAccuracy: 100.0%\n"
          ]
        }
      ]
    },
    {
      "cell_type": "code",
      "source": [
        "# Plot predicted labels\n",
        "\n",
        "n_samples_show = 6\n",
        "count = 0\n",
        "fig, axes = plt.subplots(nrows=1, ncols=n_samples_show, figsize=(10, 3))\n",
        "\n",
        "model5.eval()\n",
        "with no_grad():\n",
        "    #for batch_idx, (data, target) in enumerate(test_loader):\n",
        "    for batch_idx, (data, target) in enumerate(valid_loader):\n",
        "        if count == n_samples_show:\n",
        "            break\n",
        "        output = model5(data[0:1])\n",
        "        if len(output.shape) == 1:\n",
        "            output = output.reshape(1, *output.shape)\n",
        "\n",
        "        pred = output.argmax(dim=1, keepdim=True)\n",
        "\n",
        "        axes[count].imshow(data[0].numpy().squeeze(), cmap=\"gray\")\n",
        "\n",
        "        axes[count].set_xticks([])\n",
        "        axes[count].set_yticks([])\n",
        "        axes[count].set_title(\"Predicted {}\".format(pred.item()))\n",
        "\n",
        "        count += 1"
      ],
      "metadata": {
        "colab": {
          "base_uri": "https://localhost:8080/",
          "height": 130
        },
        "id": "CmFrGGeNYykZ",
        "outputId": "e916ccbb-1447-4d52-96b5-9830a02df3fc"
      },
      "id": "CmFrGGeNYykZ",
      "execution_count": null,
      "outputs": [
        {
          "output_type": "display_data",
          "data": {
            "text/plain": [
              "<Figure size 720x216 with 6 Axes>"
            ],
            "image/png": "[encoded data removed]"
          },
          "metadata": {}
        }
      ]
    },
    {
      "cell_type": "markdown",
      "source": [
        "これで、Qiskit 機械学習を使用して、独自のハイブリッド・データセットとアーキテクチャを試すことができます。 頑張ってください!"
      ],
      "metadata": {
        "id": "aPWa86gSY3cz"
      },
      "id": "aPWa86gSY3cz"
    },
    {
      "cell_type": "code",
      "source": [
        "import qiskit.tools.jupyter\n",
        "\n",
        "%qiskit_version_table\n",
        "%qiskit_copyright"
      ],
      "metadata": {
        "colab": {
          "base_uri": "https://localhost:8080/",
          "height": 576
        },
        "id": "-lhYPBZ7Y2RR",
        "outputId": "5c336673-dd8a-4593-b6c0-47b9c7db676b"
      },
      "id": "-lhYPBZ7Y2RR",
      "execution_count": null,
      "outputs": [
        {
          "output_type": "display_data",
          "data": {
            "text/plain": [
              "<IPython.core.display.HTML object>"
            ],
            "text/html": [
              "<h3>Version Information</h3><table><tr><th>Qiskit Software</th><th>Version</th></tr><tr><td><code>qiskit-terra</code></td><td>0.21.1</td></tr><tr><td><code>qiskit-aer</code></td><td>0.10.4</td></tr><tr><td><code>qiskit-ibmq-provider</code></td><td>0.19.2</td></tr><tr><td><code>qiskit</code></td><td>0.37.1</td></tr><tr><td><code>qiskit-machine-learning</code></td><td>0.4.0</td></tr><tr><th>System information</th></tr><tr><td>Python version</td><td>3.7.13</td></tr><tr><td>Python compiler</td><td>GCC 7.5.0</td></tr><tr><td>Python build</td><td>default, Apr 24 2022 01:04:09</td></tr><tr><td>OS</td><td>Linux</td></tr><tr><td>CPUs</td><td>2</td></tr><tr><td>Memory (Gb)</td><td>25.455490112304688</td></tr><tr><td colspan='2'>Mon Aug 15 07:26:33 2022 UTC</td></tr></table>"
            ]
          },
          "metadata": {}
        },
        {
          "output_type": "display_data",
          "data": {
            "text/plain": [
              "<IPython.core.display.HTML object>"
            ],
            "text/html": [
              "<div style='width: 100%; background-color:#d5d9e0;padding-left: 10px; padding-bottom: 10px; padding-right: 10px; padding-top: 5px'><h3>This code is a part of Qiskit</h3><p>&copy; Copyright IBM 2017, 2022.</p><p>This code is licensed under the Apache License, Version 2.0. You may<br>obtain a copy of this license in the LICENSE.txt file in the root directory<br> of this source tree or at http://www.apache.org/licenses/LICENSE-2.0.<p>Any modifications or derivative works of this code must retain this<br>copyright notice, and modified files need to carry a notice indicating<br>that they have been altered from the originals.</p></div>"
            ]
          },
          "metadata": {}
        }
      ]
    },
    {
      "cell_type": "code",
      "source": [],
      "metadata": {
        "id": "uKnZRoUQY_AE"
      },
      "id": "uKnZRoUQY_AE",
      "execution_count": null,
      "outputs": []
    }
  ],
  "metadata": {
    "kernelspec": {
      "display_name": "Python 3 (ipykernel)",
      "language": "python",
      "name": "python3"
    },
    "language_info": {
      "codemirror_mode": {
        "name": "ipython",
        "version": 3
      },
      "file_extension": ".py",
      "mimetype": "text/x-python",
      "name": "python",
      "nbconvert_exporter": "python",
      "pygments_lexer": "ipython3",
      "version": "3.8.13"
    },
    "widgets": {
      "application/vnd.jupyter.widget-state+json": {
        "226e917635b648d9bc63ff2eb0ad1c52": {
          "model_module": "@jupyter-widgets/controls",
          "model_name": "HBoxModel",
          "model_module_version": "1.5.0",
          "state": {
            "_dom_classes": [],
            "_model_module": "@jupyter-widgets/controls",
            "_model_module_version": "1.5.0",
            "_model_name": "HBoxModel",
            "_view_count": null,
            "_view_module": "@jupyter-widgets/controls",
            "_view_module_version": "1.5.0",
            "_view_name": "HBoxView",
            "box_style": "",
            "children": [
              "IPY_MODEL_e33c285bc3a6401bb0ee88e674bdce91",
              "IPY_MODEL_951294beac4b4f418a80b00d2de084b3",
              "IPY_MODEL_cb4a9bcabf294a22a71448a1ee273352"
            ],
            "layout": "IPY_MODEL_af0b066f6f8147ecacdbd12351786bb7"
          }
        },
        "e33c285bc3a6401bb0ee88e674bdce91": {
          "model_module": "@jupyter-widgets/controls",
          "model_name": "HTMLModel",
          "model_module_version": "1.5.0",
          "state": {
            "_dom_classes": [],
            "_model_module": "@jupyter-widgets/controls",
            "_model_module_version": "1.5.0",
            "_model_name": "HTMLModel",
            "_view_count": null,
            "_view_module": "@jupyter-widgets/controls",
            "_view_module_version": "1.5.0",
            "_view_name": "HTMLView",
            "description": "",
            "description_tooltip": null,
            "layout": "IPY_MODEL_d60d9a6ae25b4552b7b9c2de1754d185",
            "placeholder": "​",
            "style": "IPY_MODEL_172a0d3dd18e4d3e94a1ed0afc8edabd",
            "value": "100%"
          }
        },
        "951294beac4b4f418a80b00d2de084b3": {
          "model_module": "@jupyter-widgets/controls",
          "model_name": "FloatProgressModel",
          "model_module_version": "1.5.0",
          "state": {
            "_dom_classes": [],
            "_model_module": "@jupyter-widgets/controls",
            "_model_module_version": "1.5.0",
            "_model_name": "FloatProgressModel",
            "_view_count": null,
            "_view_module": "@jupyter-widgets/controls",
            "_view_module_version": "1.5.0",
            "_view_name": "ProgressView",
            "bar_style": "success",
            "description": "",
            "description_tooltip": null,
            "layout": "IPY_MODEL_12a92b3f8d9e4de6a612a30389da7148",
            "max": 9912422,
            "min": 0,
            "orientation": "horizontal",
            "style": "IPY_MODEL_f9b08c76bb734971bd7d47ae82069ad5",
            "value": 9912422
          }
        },
        "cb4a9bcabf294a22a71448a1ee273352": {
          "model_module": "@jupyter-widgets/controls",
          "model_name": "HTMLModel",
          "model_module_version": "1.5.0",
          "state": {
            "_dom_classes": [],
            "_model_module": "@jupyter-widgets/controls",
            "_model_module_version": "1.5.0",
            "_model_name": "HTMLModel",
            "_view_count": null,
            "_view_module": "@jupyter-widgets/controls",
            "_view_module_version": "1.5.0",
            "_view_name": "HTMLView",
            "description": "",
            "description_tooltip": null,
            "layout": "IPY_MODEL_f604f4ca3eb54437a1e43511c86bc3ab",
            "placeholder": "​",
            "style": "IPY_MODEL_347d6b19d77544e78f328bee6fdc0ffb",
            "value": " 9912422/9912422 [00:00&lt;00:00, 9817726.17it/s]"
          }
        },
        "af0b066f6f8147ecacdbd12351786bb7": {
          "model_module": "@jupyter-widgets/base",
          "model_name": "LayoutModel",
          "model_module_version": "1.2.0",
          "state": {
            "_model_module": "@jupyter-widgets/base",
            "_model_module_version": "1.2.0",
            "_model_name": "LayoutModel",
            "_view_count": null,
            "_view_module": "@jupyter-widgets/base",
            "_view_module_version": "1.2.0",
            "_view_name": "LayoutView",
            "align_content": null,
            "align_items": null,
            "align_self": null,
            "border": null,
            "bottom": null,
            "display": null,
            "flex": null,
            "flex_flow": null,
            "grid_area": null,
            "grid_auto_columns": null,
            "grid_auto_flow": null,
            "grid_auto_rows": null,
            "grid_column": null,
            "grid_gap": null,
            "grid_row": null,
            "grid_template_areas": null,
            "grid_template_columns": null,
            "grid_template_rows": null,
            "height": null,
            "justify_content": null,
            "justify_items": null,
            "left": null,
            "margin": null,
            "max_height": null,
            "max_width": null,
            "min_height": null,
            "min_width": null,
            "object_fit": null,
            "object_position": null,
            "order": null,
            "overflow": null,
            "overflow_x": null,
            "overflow_y": null,
            "padding": null,
            "right": null,
            "top": null,
            "visibility": null,
            "width": null
          }
        },
        "d60d9a6ae25b4552b7b9c2de1754d185": {
          "model_module": "@jupyter-widgets/base",
          "model_name": "LayoutModel",
          "model_module_version": "1.2.0",
          "state": {
            "_model_module": "@jupyter-widgets/base",
            "_model_module_version": "1.2.0",
            "_model_name": "LayoutModel",
            "_view_count": null,
            "_view_module": "@jupyter-widgets/base",
            "_view_module_version": "1.2.0",
            "_view_name": "LayoutView",
            "align_content": null,
            "align_items": null,
            "align_self": null,
            "border": null,
            "bottom": null,
            "display": null,
            "flex": null,
            "flex_flow": null,
            "grid_area": null,
            "grid_auto_columns": null,
            "grid_auto_flow": null,
            "grid_auto_rows": null,
            "grid_column": null,
            "grid_gap": null,
            "grid_row": null,
            "grid_template_areas": null,
            "grid_template_columns": null,
            "grid_template_rows": null,
            "height": null,
            "justify_content": null,
            "justify_items": null,
            "left": null,
            "margin": null,
            "max_height": null,
            "max_width": null,
            "min_height": null,
            "min_width": null,
            "object_fit": null,
            "object_position": null,
            "order": null,
            "overflow": null,
            "overflow_x": null,
            "overflow_y": null,
            "padding": null,
            "right": null,
            "top": null,
            "visibility": null,
            "width": null
          }
        },
        "172a0d3dd18e4d3e94a1ed0afc8edabd": {
          "model_module": "@jupyter-widgets/controls",
          "model_name": "DescriptionStyleModel",
          "model_module_version": "1.5.0",
          "state": {
            "_model_module": "@jupyter-widgets/controls",
            "_model_module_version": "1.5.0",
            "_model_name": "DescriptionStyleModel",
            "_view_count": null,
            "_view_module": "@jupyter-widgets/base",
            "_view_module_version": "1.2.0",
            "_view_name": "StyleView",
            "description_width": ""
          }
        },
        "12a92b3f8d9e4de6a612a30389da7148": {
          "model_module": "@jupyter-widgets/base",
          "model_name": "LayoutModel",
          "model_module_version": "1.2.0",
          "state": {
            "_model_module": "@jupyter-widgets/base",
            "_model_module_version": "1.2.0",
            "_model_name": "LayoutModel",
            "_view_count": null,
            "_view_module": "@jupyter-widgets/base",
            "_view_module_version": "1.2.0",
            "_view_name": "LayoutView",
            "align_content": null,
            "align_items": null,
            "align_self": null,
            "border": null,
            "bottom": null,
            "display": null,
            "flex": null,
            "flex_flow": null,
            "grid_area": null,
            "grid_auto_columns": null,
            "grid_auto_flow": null,
            "grid_auto_rows": null,
            "grid_column": null,
            "grid_gap": null,
            "grid_row": null,
            "grid_template_areas": null,
            "grid_template_columns": null,
            "grid_template_rows": null,
            "height": null,
            "justify_content": null,
            "justify_items": null,
            "left": null,
            "margin": null,
            "max_height": null,
            "max_width": null,
            "min_height": null,
            "min_width": null,
            "object_fit": null,
            "object_position": null,
            "order": null,
            "overflow": null,
            "overflow_x": null,
            "overflow_y": null,
            "padding": null,
            "right": null,
            "top": null,
            "visibility": null,
            "width": null
          }
        },
        "f9b08c76bb734971bd7d47ae82069ad5": {
          "model_module": "@jupyter-widgets/controls",
          "model_name": "ProgressStyleModel",
          "model_module_version": "1.5.0",
          "state": {
            "_model_module": "@jupyter-widgets/controls",
            "_model_module_version": "1.5.0",
            "_model_name": "ProgressStyleModel",
            "_view_count": null,
            "_view_module": "@jupyter-widgets/base",
            "_view_module_version": "1.2.0",
            "_view_name": "StyleView",
            "bar_color": null,
            "description_width": ""
          }
        },
        "f604f4ca3eb54437a1e43511c86bc3ab": {
          "model_module": "@jupyter-widgets/base",
          "model_name": "LayoutModel",
          "model_module_version": "1.2.0",
          "state": {
            "_model_module": "@jupyter-widgets/base",
            "_model_module_version": "1.2.0",
            "_model_name": "LayoutModel",
            "_view_count": null,
            "_view_module": "@jupyter-widgets/base",
            "_view_module_version": "1.2.0",
            "_view_name": "LayoutView",
            "align_content": null,
            "align_items": null,
            "align_self": null,
            "border": null,
            "bottom": null,
            "display": null,
            "flex": null,
            "flex_flow": null,
            "grid_area": null,
            "grid_auto_columns": null,
            "grid_auto_flow": null,
            "grid_auto_rows": null,
            "grid_column": null,
            "grid_gap": null,
            "grid_row": null,
            "grid_template_areas": null,
            "grid_template_columns": null,
            "grid_template_rows": null,
            "height": null,
            "justify_content": null,
            "justify_items": null,
            "left": null,
            "margin": null,
            "max_height": null,
            "max_width": null,
            "min_height": null,
            "min_width": null,
            "object_fit": null,
            "object_position": null,
            "order": null,
            "overflow": null,
            "overflow_x": null,
            "overflow_y": null,
            "padding": null,
            "right": null,
            "top": null,
            "visibility": null,
            "width": null
          }
        },
        "347d6b19d77544e78f328bee6fdc0ffb": {
          "model_module": "@jupyter-widgets/controls",
          "model_name": "DescriptionStyleModel",
          "model_module_version": "1.5.0",
          "state": {
            "_model_module": "@jupyter-widgets/controls",
            "_model_module_version": "1.5.0",
            "_model_name": "DescriptionStyleModel",
            "_view_count": null,
            "_view_module": "@jupyter-widgets/base",
            "_view_module_version": "1.2.0",
            "_view_name": "StyleView",
            "description_width": ""
          }
        },
        "d9edc9ca735c4b26b1feb1ae6400c751": {
          "model_module": "@jupyter-widgets/controls",
          "model_name": "HBoxModel",
          "model_module_version": "1.5.0",
          "state": {
            "_dom_classes": [],
            "_model_module": "@jupyter-widgets/controls",
            "_model_module_version": "1.5.0",
            "_model_name": "HBoxModel",
            "_view_count": null,
            "_view_module": "@jupyter-widgets/controls",
            "_view_module_version": "1.5.0",
            "_view_name": "HBoxView",
            "box_style": "",
            "children": [
              "IPY_MODEL_8517aed5edad40d68cf6ec1b32105ac8",
              "IPY_MODEL_d348a966b8084fe881ce92339b72bf27",
              "IPY_MODEL_688a6d358006436f8a8a396459aacf89"
            ],
            "layout": "IPY_MODEL_82b39507594c49759a342b3cb5d4bb32"
          }
        },
        "8517aed5edad40d68cf6ec1b32105ac8": {
          "model_module": "@jupyter-widgets/controls",
          "model_name": "HTMLModel",
          "model_module_version": "1.5.0",
          "state": {
            "_dom_classes": [],
            "_model_module": "@jupyter-widgets/controls",
            "_model_module_version": "1.5.0",
            "_model_name": "HTMLModel",
            "_view_count": null,
            "_view_module": "@jupyter-widgets/controls",
            "_view_module_version": "1.5.0",
            "_view_name": "HTMLView",
            "description": "",
            "description_tooltip": null,
            "layout": "IPY_MODEL_413df6a013bf45029ebd7efc2e4a87bf",
            "placeholder": "​",
            "style": "IPY_MODEL_6714440befd944f28dbb58e06b660fc2",
            "value": "100%"
          }
        },
        "d348a966b8084fe881ce92339b72bf27": {
          "model_module": "@jupyter-widgets/controls",
          "model_name": "FloatProgressModel",
          "model_module_version": "1.5.0",
          "state": {
            "_dom_classes": [],
            "_model_module": "@jupyter-widgets/controls",
            "_model_module_version": "1.5.0",
            "_model_name": "FloatProgressModel",
            "_view_count": null,
            "_view_module": "@jupyter-widgets/controls",
            "_view_module_version": "1.5.0",
            "_view_name": "ProgressView",
            "bar_style": "success",
            "description": "",
            "description_tooltip": null,
            "layout": "IPY_MODEL_79c450d5e66e45d4a909ceb8fa9d7d7f",
            "max": 28881,
            "min": 0,
            "orientation": "horizontal",
            "style": "IPY_MODEL_19c8414c02564521be0cbbef5315f7e4",
            "value": 28881
          }
        },
        "688a6d358006436f8a8a396459aacf89": {
          "model_module": "@jupyter-widgets/controls",
          "model_name": "HTMLModel",
          "model_module_version": "1.5.0",
          "state": {
            "_dom_classes": [],
            "_model_module": "@jupyter-widgets/controls",
            "_model_module_version": "1.5.0",
            "_model_name": "HTMLModel",
            "_view_count": null,
            "_view_module": "@jupyter-widgets/controls",
            "_view_module_version": "1.5.0",
            "_view_name": "HTMLView",
            "description": "",
            "description_tooltip": null,
            "layout": "IPY_MODEL_8190ef6e39e946b0b6d85c0ec40666bf",
            "placeholder": "​",
            "style": "IPY_MODEL_1af2a816aa884085b643fac489940663",
            "value": " 28881/28881 [00:00&lt;00:00, 936437.59it/s]"
          }
        },
        "82b39507594c49759a342b3cb5d4bb32": {
          "model_module": "@jupyter-widgets/base",
          "model_name": "LayoutModel",
          "model_module_version": "1.2.0",
          "state": {
            "_model_module": "@jupyter-widgets/base",
            "_model_module_version": "1.2.0",
            "_model_name": "LayoutModel",
            "_view_count": null,
            "_view_module": "@jupyter-widgets/base",
            "_view_module_version": "1.2.0",
            "_view_name": "LayoutView",
            "align_content": null,
            "align_items": null,
            "align_self": null,
            "border": null,
            "bottom": null,
            "display": null,
            "flex": null,
            "flex_flow": null,
            "grid_area": null,
            "grid_auto_columns": null,
            "grid_auto_flow": null,
            "grid_auto_rows": null,
            "grid_column": null,
            "grid_gap": null,
            "grid_row": null,
            "grid_template_areas": null,
            "grid_template_columns": null,
            "grid_template_rows": null,
            "height": null,
            "justify_content": null,
            "justify_items": null,
            "left": null,
            "margin": null,
            "max_height": null,
            "max_width": null,
            "min_height": null,
            "min_width": null,
            "object_fit": null,
            "object_position": null,
            "order": null,
            "overflow": null,
            "overflow_x": null,
            "overflow_y": null,
            "padding": null,
            "right": null,
            "top": null,
            "visibility": null,
            "width": null
          }
        },
        "413df6a013bf45029ebd7efc2e4a87bf": {
          "model_module": "@jupyter-widgets/base",
          "model_name": "LayoutModel",
          "model_module_version": "1.2.0",
          "state": {
            "_model_module": "@jupyter-widgets/base",
            "_model_module_version": "1.2.0",
            "_model_name": "LayoutModel",
            "_view_count": null,
            "_view_module": "@jupyter-widgets/base",
            "_view_module_version": "1.2.0",
            "_view_name": "LayoutView",
            "align_content": null,
            "align_items": null,
            "align_self": null,
            "border": null,
            "bottom": null,
            "display": null,
            "flex": null,
            "flex_flow": null,
            "grid_area": null,
            "grid_auto_columns": null,
            "grid_auto_flow": null,
            "grid_auto_rows": null,
            "grid_column": null,
            "grid_gap": null,
            "grid_row": null,
            "grid_template_areas": null,
            "grid_template_columns": null,
            "grid_template_rows": null,
            "height": null,
            "justify_content": null,
            "justify_items": null,
            "left": null,
            "margin": null,
            "max_height": null,
            "max_width": null,
            "min_height": null,
            "min_width": null,
            "object_fit": null,
            "object_position": null,
            "order": null,
            "overflow": null,
            "overflow_x": null,
            "overflow_y": null,
            "padding": null,
            "right": null,
            "top": null,
            "visibility": null,
            "width": null
          }
        },
        "6714440befd944f28dbb58e06b660fc2": {
          "model_module": "@jupyter-widgets/controls",
          "model_name": "DescriptionStyleModel",
          "model_module_version": "1.5.0",
          "state": {
            "_model_module": "@jupyter-widgets/controls",
            "_model_module_version": "1.5.0",
            "_model_name": "DescriptionStyleModel",
            "_view_count": null,
            "_view_module": "@jupyter-widgets/base",
            "_view_module_version": "1.2.0",
            "_view_name": "StyleView",
            "description_width": ""
          }
        },
        "79c450d5e66e45d4a909ceb8fa9d7d7f": {
          "model_module": "@jupyter-widgets/base",
          "model_name": "LayoutModel",
          "model_module_version": "1.2.0",
          "state": {
            "_model_module": "@jupyter-widgets/base",
            "_model_module_version": "1.2.0",
            "_model_name": "LayoutModel",
            "_view_count": null,
            "_view_module": "@jupyter-widgets/base",
            "_view_module_version": "1.2.0",
            "_view_name": "LayoutView",
            "align_content": null,
            "align_items": null,
            "align_self": null,
            "border": null,
            "bottom": null,
            "display": null,
            "flex": null,
            "flex_flow": null,
            "grid_area": null,
            "grid_auto_columns": null,
            "grid_auto_flow": null,
            "grid_auto_rows": null,
            "grid_column": null,
            "grid_gap": null,
            "grid_row": null,
            "grid_template_areas": null,
            "grid_template_columns": null,
            "grid_template_rows": null,
            "height": null,
            "justify_content": null,
            "justify_items": null,
            "left": null,
            "margin": null,
            "max_height": null,
            "max_width": null,
            "min_height": null,
            "min_width": null,
            "object_fit": null,
            "object_position": null,
            "order": null,
            "overflow": null,
            "overflow_x": null,
            "overflow_y": null,
            "padding": null,
            "right": null,
            "top": null,
            "visibility": null,
            "width": null
          }
        },
        "19c8414c02564521be0cbbef5315f7e4": {
          "model_module": "@jupyter-widgets/controls",
          "model_name": "ProgressStyleModel",
          "model_module_version": "1.5.0",
          "state": {
            "_model_module": "@jupyter-widgets/controls",
            "_model_module_version": "1.5.0",
            "_model_name": "ProgressStyleModel",
            "_view_count": null,
            "_view_module": "@jupyter-widgets/base",
            "_view_module_version": "1.2.0",
            "_view_name": "StyleView",
            "bar_color": null,
            "description_width": ""
          }
        },
        "8190ef6e39e946b0b6d85c0ec40666bf": {
          "model_module": "@jupyter-widgets/base",
          "model_name": "LayoutModel",
          "model_module_version": "1.2.0",
          "state": {
            "_model_module": "@jupyter-widgets/base",
            "_model_module_version": "1.2.0",
            "_model_name": "LayoutModel",
            "_view_count": null,
            "_view_module": "@jupyter-widgets/base",
            "_view_module_version": "1.2.0",
            "_view_name": "LayoutView",
            "align_content": null,
            "align_items": null,
            "align_self": null,
            "border": null,
            "bottom": null,
            "display": null,
            "flex": null,
            "flex_flow": null,
            "grid_area": null,
            "grid_auto_columns": null,
            "grid_auto_flow": null,
            "grid_auto_rows": null,
            "grid_column": null,
            "grid_gap": null,
            "grid_row": null,
            "grid_template_areas": null,
            "grid_template_columns": null,
            "grid_template_rows": null,
            "height": null,
            "justify_content": null,
            "justify_items": null,
            "left": null,
            "margin": null,
            "max_height": null,
            "max_width": null,
            "min_height": null,
            "min_width": null,
            "object_fit": null,
            "object_position": null,
            "order": null,
            "overflow": null,
            "overflow_x": null,
            "overflow_y": null,
            "padding": null,
            "right": null,
            "top": null,
            "visibility": null,
            "width": null
          }
        },
        "1af2a816aa884085b643fac489940663": {
          "model_module": "@jupyter-widgets/controls",
          "model_name": "DescriptionStyleModel",
          "model_module_version": "1.5.0",
          "state": {
            "_model_module": "@jupyter-widgets/controls",
            "_model_module_version": "1.5.0",
            "_model_name": "DescriptionStyleModel",
            "_view_count": null,
            "_view_module": "@jupyter-widgets/base",
            "_view_module_version": "1.2.0",
            "_view_name": "StyleView",
            "description_width": ""
          }
        },
        "08c7b14e3c6f4e58ab5b10ca07e67c1e": {
          "model_module": "@jupyter-widgets/controls",
          "model_name": "HBoxModel",
          "model_module_version": "1.5.0",
          "state": {
            "_dom_classes": [],
            "_model_module": "@jupyter-widgets/controls",
            "_model_module_version": "1.5.0",
            "_model_name": "HBoxModel",
            "_view_count": null,
            "_view_module": "@jupyter-widgets/controls",
            "_view_module_version": "1.5.0",
            "_view_name": "HBoxView",
            "box_style": "",
            "children": [
              "IPY_MODEL_0ee019a591344fd99b611b901fb2a63c",
              "IPY_MODEL_b302a4d1b6c34055bf1751ee74ae5cc9",
              "IPY_MODEL_ec832a022d7845489361f8cbd46f59e5"
            ],
            "layout": "IPY_MODEL_9fca034634f245379ad1082717d1e584"
          }
        },
        "0ee019a591344fd99b611b901fb2a63c": {
          "model_module": "@jupyter-widgets/controls",
          "model_name": "HTMLModel",
          "model_module_version": "1.5.0",
          "state": {
            "_dom_classes": [],
            "_model_module": "@jupyter-widgets/controls",
            "_model_module_version": "1.5.0",
            "_model_name": "HTMLModel",
            "_view_count": null,
            "_view_module": "@jupyter-widgets/controls",
            "_view_module_version": "1.5.0",
            "_view_name": "HTMLView",
            "description": "",
            "description_tooltip": null,
            "layout": "IPY_MODEL_d9e6eae27e9a4b5eb1d6e780f26eace3",
            "placeholder": "​",
            "style": "IPY_MODEL_09c4b30aeec54549bb85609589f225ef",
            "value": "100%"
          }
        },
        "b302a4d1b6c34055bf1751ee74ae5cc9": {
          "model_module": "@jupyter-widgets/controls",
          "model_name": "FloatProgressModel",
          "model_module_version": "1.5.0",
          "state": {
            "_dom_classes": [],
            "_model_module": "@jupyter-widgets/controls",
            "_model_module_version": "1.5.0",
            "_model_name": "FloatProgressModel",
            "_view_count": null,
            "_view_module": "@jupyter-widgets/controls",
            "_view_module_version": "1.5.0",
            "_view_name": "ProgressView",
            "bar_style": "success",
            "description": "",
            "description_tooltip": null,
            "layout": "IPY_MODEL_510070d906d5400ab08b7f48ef225e9c",
            "max": 1648877,
            "min": 0,
            "orientation": "horizontal",
            "style": "IPY_MODEL_b573fd69539242f68ff6b1d397d6aa21",
            "value": 1648877
          }
        },
        "ec832a022d7845489361f8cbd46f59e5": {
          "model_module": "@jupyter-widgets/controls",
          "model_name": "HTMLModel",
          "model_module_version": "1.5.0",
          "state": {
            "_dom_classes": [],
            "_model_module": "@jupyter-widgets/controls",
            "_model_module_version": "1.5.0",
            "_model_name": "HTMLModel",
            "_view_count": null,
            "_view_module": "@jupyter-widgets/controls",
            "_view_module_version": "1.5.0",
            "_view_name": "HTMLView",
            "description": "",
            "description_tooltip": null,
            "layout": "IPY_MODEL_f0b2745c1bb048b6a0510b8dfe84c903",
            "placeholder": "​",
            "style": "IPY_MODEL_b03fd0f744a941c58b619e200386adcf",
            "value": " 1648877/1648877 [00:00&lt;00:00, 3031890.99it/s]"
          }
        },
        "9fca034634f245379ad1082717d1e584": {
          "model_module": "@jupyter-widgets/base",
          "model_name": "LayoutModel",
          "model_module_version": "1.2.0",
          "state": {
            "_model_module": "@jupyter-widgets/base",
            "_model_module_version": "1.2.0",
            "_model_name": "LayoutModel",
            "_view_count": null,
            "_view_module": "@jupyter-widgets/base",
            "_view_module_version": "1.2.0",
            "_view_name": "LayoutView",
            "align_content": null,
            "align_items": null,
            "align_self": null,
            "border": null,
            "bottom": null,
            "display": null,
            "flex": null,
            "flex_flow": null,
            "grid_area": null,
            "grid_auto_columns": null,
            "grid_auto_flow": null,
            "grid_auto_rows": null,
            "grid_column": null,
            "grid_gap": null,
            "grid_row": null,
            "grid_template_areas": null,
            "grid_template_columns": null,
            "grid_template_rows": null,
            "height": null,
            "justify_content": null,
            "justify_items": null,
            "left": null,
            "margin": null,
            "max_height": null,
            "max_width": null,
            "min_height": null,
            "min_width": null,
            "object_fit": null,
            "object_position": null,
            "order": null,
            "overflow": null,
            "overflow_x": null,
            "overflow_y": null,
            "padding": null,
            "right": null,
            "top": null,
            "visibility": null,
            "width": null
          }
        },
        "d9e6eae27e9a4b5eb1d6e780f26eace3": {
          "model_module": "@jupyter-widgets/base",
          "model_name": "LayoutModel",
          "model_module_version": "1.2.0",
          "state": {
            "_model_module": "@jupyter-widgets/base",
            "_model_module_version": "1.2.0",
            "_model_name": "LayoutModel",
            "_view_count": null,
            "_view_module": "@jupyter-widgets/base",
            "_view_module_version": "1.2.0",
            "_view_name": "LayoutView",
            "align_content": null,
            "align_items": null,
            "align_self": null,
            "border": null,
            "bottom": null,
            "display": null,
            "flex": null,
            "flex_flow": null,
            "grid_area": null,
            "grid_auto_columns": null,
            "grid_auto_flow": null,
            "grid_auto_rows": null,
            "grid_column": null,
            "grid_gap": null,
            "grid_row": null,
            "grid_template_areas": null,
            "grid_template_columns": null,
            "grid_template_rows": null,
            "height": null,
            "justify_content": null,
            "justify_items": null,
            "left": null,
            "margin": null,
            "max_height": null,
            "max_width": null,
            "min_height": null,
            "min_width": null,
            "object_fit": null,
            "object_position": null,
            "order": null,
            "overflow": null,
            "overflow_x": null,
            "overflow_y": null,
            "padding": null,
            "right": null,
            "top": null,
            "visibility": null,
            "width": null
          }
        },
        "09c4b30aeec54549bb85609589f225ef": {
          "model_module": "@jupyter-widgets/controls",
          "model_name": "DescriptionStyleModel",
          "model_module_version": "1.5.0",
          "state": {
            "_model_module": "@jupyter-widgets/controls",
            "_model_module_version": "1.5.0",
            "_model_name": "DescriptionStyleModel",
            "_view_count": null,
            "_view_module": "@jupyter-widgets/base",
            "_view_module_version": "1.2.0",
            "_view_name": "StyleView",
            "description_width": ""
          }
        },
        "510070d906d5400ab08b7f48ef225e9c": {
          "model_module": "@jupyter-widgets/base",
          "model_name": "LayoutModel",
          "model_module_version": "1.2.0",
          "state": {
            "_model_module": "@jupyter-widgets/base",
            "_model_module_version": "1.2.0",
            "_model_name": "LayoutModel",
            "_view_count": null,
            "_view_module": "@jupyter-widgets/base",
            "_view_module_version": "1.2.0",
            "_view_name": "LayoutView",
            "align_content": null,
            "align_items": null,
            "align_self": null,
            "border": null,
            "bottom": null,
            "display": null,
            "flex": null,
            "flex_flow": null,
            "grid_area": null,
            "grid_auto_columns": null,
            "grid_auto_flow": null,
            "grid_auto_rows": null,
            "grid_column": null,
            "grid_gap": null,
            "grid_row": null,
            "grid_template_areas": null,
            "grid_template_columns": null,
            "grid_template_rows": null,
            "height": null,
            "justify_content": null,
            "justify_items": null,
            "left": null,
            "margin": null,
            "max_height": null,
            "max_width": null,
            "min_height": null,
            "min_width": null,
            "object_fit": null,
            "object_position": null,
            "order": null,
            "overflow": null,
            "overflow_x": null,
            "overflow_y": null,
            "padding": null,
            "right": null,
            "top": null,
            "visibility": null,
            "width": null
          }
        },
        "b573fd69539242f68ff6b1d397d6aa21": {
          "model_module": "@jupyter-widgets/controls",
          "model_name": "ProgressStyleModel",
          "model_module_version": "1.5.0",
          "state": {
            "_model_module": "@jupyter-widgets/controls",
            "_model_module_version": "1.5.0",
            "_model_name": "ProgressStyleModel",
            "_view_count": null,
            "_view_module": "@jupyter-widgets/base",
            "_view_module_version": "1.2.0",
            "_view_name": "StyleView",
            "bar_color": null,
            "description_width": ""
          }
        },
        "f0b2745c1bb048b6a0510b8dfe84c903": {
          "model_module": "@jupyter-widgets/base",
          "model_name": "LayoutModel",
          "model_module_version": "1.2.0",
          "state": {
            "_model_module": "@jupyter-widgets/base",
            "_model_module_version": "1.2.0",
            "_model_name": "LayoutModel",
            "_view_count": null,
            "_view_module": "@jupyter-widgets/base",
            "_view_module_version": "1.2.0",
            "_view_name": "LayoutView",
            "align_content": null,
            "align_items": null,
            "align_self": null,
            "border": null,
            "bottom": null,
            "display": null,
            "flex": null,
            "flex_flow": null,
            "grid_area": null,
            "grid_auto_columns": null,
            "grid_auto_flow": null,
            "grid_auto_rows": null,
            "grid_column": null,
            "grid_gap": null,
            "grid_row": null,
            "grid_template_areas": null,
            "grid_template_columns": null,
            "grid_template_rows": null,
            "height": null,
            "justify_content": null,
            "justify_items": null,
            "left": null,
            "margin": null,
            "max_height": null,
            "max_width": null,
            "min_height": null,
            "min_width": null,
            "object_fit": null,
            "object_position": null,
            "order": null,
            "overflow": null,
            "overflow_x": null,
            "overflow_y": null,
            "padding": null,
            "right": null,
            "top": null,
            "visibility": null,
            "width": null
          }
        },
        "b03fd0f744a941c58b619e200386adcf": {
          "model_module": "@jupyter-widgets/controls",
          "model_name": "DescriptionStyleModel",
          "model_module_version": "1.5.0",
          "state": {
            "_model_module": "@jupyter-widgets/controls",
            "_model_module_version": "1.5.0",
            "_model_name": "DescriptionStyleModel",
            "_view_count": null,
            "_view_module": "@jupyter-widgets/base",
            "_view_module_version": "1.2.0",
            "_view_name": "StyleView",
            "description_width": ""
          }
        },
        "b14a1fb3b7be44bd80fdb1d408fba788": {
          "model_module": "@jupyter-widgets/controls",
          "model_name": "HBoxModel",
          "model_module_version": "1.5.0",
          "state": {
            "_dom_classes": [],
            "_model_module": "@jupyter-widgets/controls",
            "_model_module_version": "1.5.0",
            "_model_name": "HBoxModel",
            "_view_count": null,
            "_view_module": "@jupyter-widgets/controls",
            "_view_module_version": "1.5.0",
            "_view_name": "HBoxView",
            "box_style": "",
            "children": [
              "IPY_MODEL_6641e4a1b3a5412194495d365dbee663",
              "IPY_MODEL_e2f8ba3f4a04448e92a2054f4bf19db6",
              "IPY_MODEL_7dcd6c62d69744eead850342802dc9d3"
            ],
            "layout": "IPY_MODEL_8b874dcbe9664da385cfeb296d1d1add"
          }
        },
        "6641e4a1b3a5412194495d365dbee663": {
          "model_module": "@jupyter-widgets/controls",
          "model_name": "HTMLModel",
          "model_module_version": "1.5.0",
          "state": {
            "_dom_classes": [],
            "_model_module": "@jupyter-widgets/controls",
            "_model_module_version": "1.5.0",
            "_model_name": "HTMLModel",
            "_view_count": null,
            "_view_module": "@jupyter-widgets/controls",
            "_view_module_version": "1.5.0",
            "_view_name": "HTMLView",
            "description": "",
            "description_tooltip": null,
            "layout": "IPY_MODEL_4290a93aa9724c3bae5e74f24d900fd7",
            "placeholder": "​",
            "style": "IPY_MODEL_4ea138cee711472ab00070ba23153353",
            "value": "100%"
          }
        },
        "e2f8ba3f4a04448e92a2054f4bf19db6": {
          "model_module": "@jupyter-widgets/controls",
          "model_name": "FloatProgressModel",
          "model_module_version": "1.5.0",
          "state": {
            "_dom_classes": [],
            "_model_module": "@jupyter-widgets/controls",
            "_model_module_version": "1.5.0",
            "_model_name": "FloatProgressModel",
            "_view_count": null,
            "_view_module": "@jupyter-widgets/controls",
            "_view_module_version": "1.5.0",
            "_view_name": "ProgressView",
            "bar_style": "success",
            "description": "",
            "description_tooltip": null,
            "layout": "IPY_MODEL_692e971c485f433ab0eebc043f25f2c3",
            "max": 4542,
            "min": 0,
            "orientation": "horizontal",
            "style": "IPY_MODEL_53e28959e6c04f6183f08df58d744f1b",
            "value": 4542
          }
        },
        "7dcd6c62d69744eead850342802dc9d3": {
          "model_module": "@jupyter-widgets/controls",
          "model_name": "HTMLModel",
          "model_module_version": "1.5.0",
          "state": {
            "_dom_classes": [],
            "_model_module": "@jupyter-widgets/controls",
            "_model_module_version": "1.5.0",
            "_model_name": "HTMLModel",
            "_view_count": null,
            "_view_module": "@jupyter-widgets/controls",
            "_view_module_version": "1.5.0",
            "_view_name": "HTMLView",
            "description": "",
            "description_tooltip": null,
            "layout": "IPY_MODEL_821b39d1394e4aa4a6f8ca268b52c24b",
            "placeholder": "​",
            "style": "IPY_MODEL_f572b4d2788e4f82b84df88919716022",
            "value": " 4542/4542 [00:00&lt;00:00, 142380.63it/s]"
          }
        },
        "8b874dcbe9664da385cfeb296d1d1add": {
          "model_module": "@jupyter-widgets/base",
          "model_name": "LayoutModel",
          "model_module_version": "1.2.0",
          "state": {
            "_model_module": "@jupyter-widgets/base",
            "_model_module_version": "1.2.0",
            "_model_name": "LayoutModel",
            "_view_count": null,
            "_view_module": "@jupyter-widgets/base",
            "_view_module_version": "1.2.0",
            "_view_name": "LayoutView",
            "align_content": null,
            "align_items": null,
            "align_self": null,
            "border": null,
            "bottom": null,
            "display": null,
            "flex": null,
            "flex_flow": null,
            "grid_area": null,
            "grid_auto_columns": null,
            "grid_auto_flow": null,
            "grid_auto_rows": null,
            "grid_column": null,
            "grid_gap": null,
            "grid_row": null,
            "grid_template_areas": null,
            "grid_template_columns": null,
            "grid_template_rows": null,
            "height": null,
            "justify_content": null,
            "justify_items": null,
            "left": null,
            "margin": null,
            "max_height": null,
            "max_width": null,
            "min_height": null,
            "min_width": null,
            "object_fit": null,
            "object_position": null,
            "order": null,
            "overflow": null,
            "overflow_x": null,
            "overflow_y": null,
            "padding": null,
            "right": null,
            "top": null,
            "visibility": null,
            "width": null
          }
        },
        "4290a93aa9724c3bae5e74f24d900fd7": {
          "model_module": "@jupyter-widgets/base",
          "model_name": "LayoutModel",
          "model_module_version": "1.2.0",
          "state": {
            "_model_module": "@jupyter-widgets/base",
            "_model_module_version": "1.2.0",
            "_model_name": "LayoutModel",
            "_view_count": null,
            "_view_module": "@jupyter-widgets/base",
            "_view_module_version": "1.2.0",
            "_view_name": "LayoutView",
            "align_content": null,
            "align_items": null,
            "align_self": null,
            "border": null,
            "bottom": null,
            "display": null,
            "flex": null,
            "flex_flow": null,
            "grid_area": null,
            "grid_auto_columns": null,
            "grid_auto_flow": null,
            "grid_auto_rows": null,
            "grid_column": null,
            "grid_gap": null,
            "grid_row": null,
            "grid_template_areas": null,
            "grid_template_columns": null,
            "grid_template_rows": null,
            "height": null,
            "justify_content": null,
            "justify_items": null,
            "left": null,
            "margin": null,
            "max_height": null,
            "max_width": null,
            "min_height": null,
            "min_width": null,
            "object_fit": null,
            "object_position": null,
            "order": null,
            "overflow": null,
            "overflow_x": null,
            "overflow_y": null,
            "padding": null,
            "right": null,
            "top": null,
            "visibility": null,
            "width": null
          }
        },
        "4ea138cee711472ab00070ba23153353": {
          "model_module": "@jupyter-widgets/controls",
          "model_name": "DescriptionStyleModel",
          "model_module_version": "1.5.0",
          "state": {
            "_model_module": "@jupyter-widgets/controls",
            "_model_module_version": "1.5.0",
            "_model_name": "DescriptionStyleModel",
            "_view_count": null,
            "_view_module": "@jupyter-widgets/base",
            "_view_module_version": "1.2.0",
            "_view_name": "StyleView",
            "description_width": ""
          }
        },
        "692e971c485f433ab0eebc043f25f2c3": {
          "model_module": "@jupyter-widgets/base",
          "model_name": "LayoutModel",
          "model_module_version": "1.2.0",
          "state": {
            "_model_module": "@jupyter-widgets/base",
            "_model_module_version": "1.2.0",
            "_model_name": "LayoutModel",
            "_view_count": null,
            "_view_module": "@jupyter-widgets/base",
            "_view_module_version": "1.2.0",
            "_view_name": "LayoutView",
            "align_content": null,
            "align_items": null,
            "align_self": null,
            "border": null,
            "bottom": null,
            "display": null,
            "flex": null,
            "flex_flow": null,
            "grid_area": null,
            "grid_auto_columns": null,
            "grid_auto_flow": null,
            "grid_auto_rows": null,
            "grid_column": null,
            "grid_gap": null,
            "grid_row": null,
            "grid_template_areas": null,
            "grid_template_columns": null,
            "grid_template_rows": null,
            "height": null,
            "justify_content": null,
            "justify_items": null,
            "left": null,
            "margin": null,
            "max_height": null,
            "max_width": null,
            "min_height": null,
            "min_width": null,
            "object_fit": null,
            "object_position": null,
            "order": null,
            "overflow": null,
            "overflow_x": null,
            "overflow_y": null,
            "padding": null,
            "right": null,
            "top": null,
            "visibility": null,
            "width": null
          }
        },
        "53e28959e6c04f6183f08df58d744f1b": {
          "model_module": "@jupyter-widgets/controls",
          "model_name": "ProgressStyleModel",
          "model_module_version": "1.5.0",
          "state": {
            "_model_module": "@jupyter-widgets/controls",
            "_model_module_version": "1.5.0",
            "_model_name": "ProgressStyleModel",
            "_view_count": null,
            "_view_module": "@jupyter-widgets/base",
            "_view_module_version": "1.2.0",
            "_view_name": "StyleView",
            "bar_color": null,
            "description_width": ""
          }
        },
        "821b39d1394e4aa4a6f8ca268b52c24b": {
          "model_module": "@jupyter-widgets/base",
          "model_name": "LayoutModel",
          "model_module_version": "1.2.0",
          "state": {
            "_model_module": "@jupyter-widgets/base",
            "_model_module_version": "1.2.0",
            "_model_name": "LayoutModel",
            "_view_count": null,
            "_view_module": "@jupyter-widgets/base",
            "_view_module_version": "1.2.0",
            "_view_name": "LayoutView",
            "align_content": null,
            "align_items": null,
            "align_self": null,
            "border": null,
            "bottom": null,
            "display": null,
            "flex": null,
            "flex_flow": null,
            "grid_area": null,
            "grid_auto_columns": null,
            "grid_auto_flow": null,
            "grid_auto_rows": null,
            "grid_column": null,
            "grid_gap": null,
            "grid_row": null,
            "grid_template_areas": null,
            "grid_template_columns": null,
            "grid_template_rows": null,
            "height": null,
            "justify_content": null,
            "justify_items": null,
            "left": null,
            "margin": null,
            "max_height": null,
            "max_width": null,
            "min_height": null,
            "min_width": null,
            "object_fit": null,
            "object_position": null,
            "order": null,
            "overflow": null,
            "overflow_x": null,
            "overflow_y": null,
            "padding": null,
            "right": null,
            "top": null,
            "visibility": null,
            "width": null
          }
        },
        "f572b4d2788e4f82b84df88919716022": {
          "model_module": "@jupyter-widgets/controls",
          "model_name": "DescriptionStyleModel",
          "model_module_version": "1.5.0",
          "state": {
            "_model_module": "@jupyter-widgets/controls",
            "_model_module_version": "1.5.0",
            "_model_name": "DescriptionStyleModel",
            "_view_count": null,
            "_view_module": "@jupyter-widgets/base",
            "_view_module_version": "1.2.0",
            "_view_name": "StyleView",
            "description_width": ""
          }
        }
      }
    },
    "colab": {
      "name": "QNN_demo20220830.ipynb",
      "provenance": [],
      "collapsed_sections": [],
      "machine_shape": "hm"
    },
    "accelerator": "GPU",
    "gpuClass": "standard"
  },
  "nbformat": 4,
  "nbformat_minor": 5
}